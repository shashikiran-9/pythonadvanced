{
 "cells": [
  {
   "cell_type": "markdown",
   "id": "6b56013d",
   "metadata": {},
   "source": [
    "                             Assignment No 12 (pythonadvanced)\n",
    "                             "
   ]
  },
  {
   "cell_type": "code",
   "execution_count": null,
   "id": "c7540964",
   "metadata": {},
   "outputs": [],
   "source": []
  },
  {
   "cell_type": "markdown",
   "id": "68d343f5",
   "metadata": {},
   "source": [
    "Que1. Does assigning a value to a string&#39;s indexed character violate Python's string immutability?\n",
    "\n",
    "Ans:\n",
    "     String's indexed character cannot to be assigned a New value as String are immutable.\n",
    "     "
   ]
  },
  {
   "cell_type": "code",
   "execution_count": null,
   "id": "3d58fc53",
   "metadata": {},
   "outputs": [],
   "source": [
    "Example:\n",
    "name = \"Reinforcement\"\n",
    "print(id(name)) #73472\n",
    "name[0] = \"V\" # Raise TypeError\n"
   ]
  },
  {
   "cell_type": "code",
   "execution_count": null,
   "id": "a7c5a203",
   "metadata": {},
   "outputs": [],
   "source": []
  },
  {
   "cell_type": "markdown",
   "id": "499e30a9",
   "metadata": {},
   "source": [
    "Que2. Does using the += operator to concatenate strings violate Python&#39;s string immutability? Why or why not?\n",
    "\n",
    "Ans: \n",
    "     += operator is used to concatenate strings. It does not violate Python's string immutability Property beacause doing so        creates a new association with data and variable.E.g.str_1=\"a\" and str_1+=\"b\". Effect of this statement is to create            string ab and reassign it to variable str_1. Any string data is not actually modified.\n",
    "     "
   ]
  },
  {
   "cell_type": "code",
   "execution_count": 3,
   "id": "5af65577",
   "metadata": {},
   "outputs": [
    {
     "name": "stdout",
     "output_type": "stream",
     "text": [
      "2432914416624\n",
      "2432991773680\n"
     ]
    }
   ],
   "source": [
    "str_1 = \"a\"\n",
    "print(id(str_1))\n",
    "str_1 += \"b\"\n",
    "print(id(str_1)) # Does not Modify existing string, Create a New String Object\n"
   ]
  },
  {
   "cell_type": "code",
   "execution_count": null,
   "id": "61b44303",
   "metadata": {},
   "outputs": [],
   "source": []
  },
  {
   "cell_type": "markdown",
   "id": "0763fdf2",
   "metadata": {},
   "source": [
    "Que3. In Python, how many different ways are there to index a character?\n",
    "\n",
    "Ans:\n",
    "     A Character in string can be indexed using string name followed by index number of character in square bracket. Positive        Indexing i.e. first index is 0 an so on , or Negative Indexing i.e. last letter is -1 and so on can be index a character.\n",
    "     "
   ]
  },
  {
   "cell_type": "code",
   "execution_count": 5,
   "id": "dd27557e",
   "metadata": {},
   "outputs": [
    {
     "name": "stdout",
     "output_type": "stream",
     "text": [
      "u l e\n",
      "e i c\n"
     ]
    }
   ],
   "source": [
    "in_string = \"iNeuron Full Strack Data Science\"\n",
    "print(in_string[9],in_string[10],in_string[2]) # Positive Indexing\n",
    "print(in_string[-1],in_string[-5],in_string[-2]) # Negative Indexing\n"
   ]
  },
  {
   "cell_type": "code",
   "execution_count": null,
   "id": "e09e4ca5",
   "metadata": {},
   "outputs": [],
   "source": []
  },
  {
   "cell_type": "markdown",
   "id": "bc4570d5",
   "metadata": {},
   "source": [
    "Que4. What is the relationship between indexing and slicing?\n",
    "\n",
    "Ans:\n",
    "     We can access elements of sequence datatype by using slicing and indexing. Indexing is used to obtaining individual            element while slicing for sequence of elements.\n",
    "     "
   ]
  },
  {
   "cell_type": "code",
   "execution_count": 6,
   "id": "d2818cf6",
   "metadata": {},
   "outputs": [
    {
     "name": "stdout",
     "output_type": "stream",
     "text": [
      "N u o\n",
      "Neuron Full St\n"
     ]
    }
   ],
   "source": [
    "in_string = \"iNeuron Full Stack Data Science\"\n",
    "print(in_string[1],in_string[3],in_string[5]) # Indexing\n",
    "print(in_string[1:15]) # Slicing\n"
   ]
  },
  {
   "cell_type": "code",
   "execution_count": null,
   "id": "c9eddabb",
   "metadata": {},
   "outputs": [],
   "source": []
  },
  {
   "cell_type": "markdown",
   "id": "aa963ec3",
   "metadata": {},
   "source": [
    "Que5. What is an indexed character's exact data type? What is the data form of a slicing-generated substring?\n",
    "\n",
    "Ans:\n",
    "     Indexed characters and sliced substrings have datatype String.\n",
    "     "
   ]
  },
  {
   "cell_type": "code",
   "execution_count": 7,
   "id": "f26a220f",
   "metadata": {},
   "outputs": [
    {
     "name": "stdout",
     "output_type": "stream",
     "text": [
      "<class 'str'>\n",
      "<class 'str'>\n"
     ]
    }
   ],
   "source": [
    "in_string = \"iNeuron Full Stack Science\"\n",
    "print(type(in_string[3])) # Indexing -> str\n",
    "print(type(in_string[1:10])) # Indexing -> str\n"
   ]
  },
  {
   "cell_type": "code",
   "execution_count": null,
   "id": "a4da2e4b",
   "metadata": {},
   "outputs": [],
   "source": []
  },
  {
   "cell_type": "markdown",
   "id": "1fff6440",
   "metadata": {},
   "source": [
    "Que6. What is the relationship between string and character \"types\" in Python?\n",
    "\n",
    "Ans:\n",
    "     Object that contains sequence of character datatypes are called String.\n",
    "     "
   ]
  },
  {
   "cell_type": "code",
   "execution_count": null,
   "id": "b449c4c8",
   "metadata": {},
   "outputs": [],
   "source": []
  },
  {
   "cell_type": "markdown",
   "id": "2af59118",
   "metadata": {},
   "source": [
    "Que7. Identify at least two operators and one method that allow you to combine one or more smaller strings to create a larger         string.\n",
    "\n",
    "Ans: \n",
    "     +,+=and*allows to combine one or more smaller string to create a larger string. .joins element of iterable type like list      and tuple to get a combined string.\n",
    "     "
   ]
  },
  {
   "cell_type": "code",
   "execution_count": 8,
   "id": "d5f67d91",
   "metadata": {},
   "outputs": [
    {
     "name": "stdout",
     "output_type": "stream",
     "text": [
      "iNeuronFull Stack Data Science FSDS\n",
      "I N E U R O N\n",
      "i n e u r o n\n"
     ]
    }
   ],
   "source": [
    "in_string = 'iNeuron'\n",
    "in_string += 'Full Stack Data Science'\n",
    "print(in_string + ' FSDS')\n",
    "print(\" \".join(['I','N','E','U','R','O','N'])) # List Iterable\n",
    "print(\" \".join(('I','N','E','U','R','O','N')).lower()) #Tuple Iterable\n"
   ]
  },
  {
   "cell_type": "code",
   "execution_count": null,
   "id": "027956e4",
   "metadata": {},
   "outputs": [],
   "source": []
  },
  {
   "cell_type": "markdown",
   "id": "ca2fbbe2",
   "metadata": {},
   "source": [
    "Que8. What is the benefit of first checking the target string with in or not in before using the index method to find a               substring?\n",
    "\n",
    "Ans:\n",
    "     Checking the target string with inor not Operators before using the index method to find a substring just helps confirming      availbility of substring and thus avoid raising of ValueError.\n",
    "     "
   ]
  },
  {
   "cell_type": "code",
   "execution_count": null,
   "id": "cf05b0d5",
   "metadata": {},
   "outputs": [],
   "source": [
    "Example:\n",
    "in_string = \"ineuron\"\n",
    "in_string('x') # Raises ValueError\n",
    "in_string.index('u') # 3\n"
   ]
  },
  {
   "cell_type": "code",
   "execution_count": null,
   "id": "d640996b",
   "metadata": {},
   "outputs": [],
   "source": []
  },
  {
   "cell_type": "markdown",
   "id": "ddf6781a",
   "metadata": {},
   "source": [
    "Que9. Which operators and built-in string methods produce simple Boolean (true/false) results?\n"
   ]
  },
  {
   "cell_type": "code",
   "execution_count": null,
   "id": "2e50b5f4",
   "metadata": {},
   "outputs": [],
   "source": [
    "The String Operator and built-in methods to Produce Simple Boolean(True/False) results are:\n",
    "    \n",
    "in\n",
    "\n",
    "not\n",
    "\n",
    "<string>.isalpha()\n",
    "\n",
    "<string>.isalnum()\n",
    "\n",
    "<string>.isdecimal()\n",
    "\n",
    "<string>.isdigit()\n",
    "\n",
    "<string>.islower()\n",
    "\n",
    "<string>.isnumeric()\n",
    "\n",
    "<string>.isprintable()\n",
    "\n",
    "<string>.isspace()\n",
    "\n",
    "<string>.istitle()\n"
   ]
  },
  {
   "cell_type": "code",
   "execution_count": null,
   "id": "cad74bf1",
   "metadata": {},
   "outputs": [],
   "source": []
  }
 ],
 "metadata": {
  "kernelspec": {
   "display_name": "Python 3 (ipykernel)",
   "language": "python",
   "name": "python3"
  },
  "language_info": {
   "codemirror_mode": {
    "name": "ipython",
    "version": 3
   },
   "file_extension": ".py",
   "mimetype": "text/x-python",
   "name": "python",
   "nbconvert_exporter": "python",
   "pygments_lexer": "ipython3",
   "version": "3.9.13"
  }
 },
 "nbformat": 4,
 "nbformat_minor": 5
}
