{
 "cells": [
  {
   "cell_type": "markdown",
   "id": "dde18bf8",
   "metadata": {},
   "source": [
    "                           Assignment No 20 (pythonadvanced)\n",
    "                           "
   ]
  },
  {
   "cell_type": "code",
   "execution_count": null,
   "id": "2bfcbd4e",
   "metadata": {},
   "outputs": [],
   "source": []
  },
  {
   "cell_type": "markdown",
   "id": "daeefcac",
   "metadata": {},
   "source": [
    "Que1. Compare and contrast the float and Decimal classes' benefits and drawbacks.\n",
    "\n",
    "Ans:\n",
    "     Both the float and decimal types store numerical values in Python.\n",
    "\n",
    "     We use floats when convenience and speed matter. A float gives us an approximation of the number we declare.\n",
    "\n",
    "     We use decimals when precision matters. Decimals can suffer from their own precision issues, but generally, decimals are        more precise than floats. The performance difference between float and decimal, with Python 3, is not outlandish, and in        my experience, the precision benefits of a decimal outweigh the performance benefits of a float.\n"
   ]
  },
  {
   "cell_type": "code",
   "execution_count": null,
   "id": "7e5cbb4f",
   "metadata": {},
   "outputs": [],
   "source": []
  },
  {
   "cell_type": "markdown",
   "id": "94ee707b",
   "metadata": {},
   "source": [
    "Que2. Decimal('1.200') and Decimal('1.2') are two objects to consider. In what sense are these the same\n",
    "      object? Are these just two ways of representing the exact same value, or do they correspond to\n",
    "      different internal states?\n",
    "Ans:\n",
    "      Both values are same but internal representation at storage Is different. Precsion differs, Decimal('1.200') gives             internally 1.200 and Decimal ('1.2') gives 1.2.\n",
    "      "
   ]
  },
  {
   "cell_type": "code",
   "execution_count": null,
   "id": "1f60ebff",
   "metadata": {},
   "outputs": [],
   "source": []
  },
  {
   "cell_type": "markdown",
   "id": "b412e177",
   "metadata": {},
   "source": [
    "Que3. What happens if the equality of Decimal('1.200') and Decimal('1.2') is checked?\n",
    "\n",
    "Ans:\n",
    "     Both values are checked to be equal since they only differ in precision.\n",
    "     "
   ]
  },
  {
   "cell_type": "code",
   "execution_count": null,
   "id": "47b3ac81",
   "metadata": {},
   "outputs": [],
   "source": []
  },
  {
   "cell_type": "markdown",
   "id": "ff86bb42",
   "metadata": {},
   "source": [
    "Que4. Why is it preferable to start a Decimal object with a string rather than a floating-point value?\n",
    "\n",
    "Ans:\n",
    "     Floating-point value is converted to Decimal format. Decimal can store float value with absolute precision. But when float      value is given as Decimal object,it first has to be converted from floating point value which might already have rounding      error.\n",
    "\n",
    "     Hence it is preferable to start a Decimal object with a string.\n"
   ]
  },
  {
   "cell_type": "code",
   "execution_count": null,
   "id": "f22e2626",
   "metadata": {},
   "outputs": [],
   "source": []
  },
  {
   "cell_type": "markdown",
   "id": "f97311ae",
   "metadata": {},
   "source": [
    "Que5. In an arithmetic phrase, how simple is it to combine Decimal objects with integers?\n",
    "\n",
    "Ans:\n",
    "     We can do it with use of Decimal().\n",
    "     "
   ]
  },
  {
   "cell_type": "code",
   "execution_count": null,
   "id": "d9af5698",
   "metadata": {},
   "outputs": [],
   "source": []
  },
  {
   "cell_type": "markdown",
   "id": "38e56133",
   "metadata": {},
   "source": [
    "Que6. Can Decimal objects and floating-point values be combined easily?\n",
    "\n",
    "Ans:\n",
    "     Arithmetic operfations like Adding,subtracting or multiplying a Decimal by a floating-point value generates an error.\n",
    "     \n",
    "     To do these operations, the floating point has to be converted to a Decimal.\n",
    "     "
   ]
  },
  {
   "cell_type": "code",
   "execution_count": null,
   "id": "74a792cb",
   "metadata": {},
   "outputs": [],
   "source": []
  },
  {
   "cell_type": "markdown",
   "id": "2e59d260",
   "metadata": {},
   "source": [
    "Que7. Using the Fraction class but not the Decimal class, give an example of a quantity that can be\n",
    "      expressed with absolute precision.\n",
    "\n",
    "Ans:\n",
    "     Value of 0.5 will be represented as 1/2.\n",
    "     "
   ]
  },
  {
   "cell_type": "code",
   "execution_count": null,
   "id": "f3fa39a2",
   "metadata": {},
   "outputs": [],
   "source": []
  },
  {
   "cell_type": "markdown",
   "id": "8e65851a",
   "metadata": {},
   "source": [
    "Que8. Describe a quantity that can be accurately expressed by the Decimal or Fraction classes but not by\n",
    "      a floating-point value.\n",
    "\n",
    "Ans:\n",
    "     The precision of a floating-point number is determined by the mantissa. For a 32 bit floating-point DSP, the mantissa is        generally 24 bits.\n",
    "     "
   ]
  },
  {
   "cell_type": "code",
   "execution_count": null,
   "id": "bfaa0edf",
   "metadata": {},
   "outputs": [],
   "source": []
  },
  {
   "cell_type": "markdown",
   "id": "33be37ca",
   "metadata": {},
   "source": [
    "Que9. Consider the following two fraction objects: Fraction(1, 2) and Fraction(1, 2). (5, 10). Is the internal\n",
    "      state of these two objects the same? Why do you think that is?\n",
    "\n",
    "Ans:\n",
    "     Both will be reduced to 1/2.\n",
    "     "
   ]
  },
  {
   "cell_type": "code",
   "execution_count": null,
   "id": "91ea615d",
   "metadata": {},
   "outputs": [],
   "source": []
  },
  {
   "cell_type": "markdown",
   "id": "06c798c3",
   "metadata": {},
   "source": [
    "Que10. How do the Fraction class and the integer type (int) relate to each other? Containment or inheritance?\n",
    "\n",
    "Ans:\n",
    "     Fraction class and integer type(int) are related in from of a container. It contains two ints, one in the numerator and        the other in the denominator.\n",
    "     "
   ]
  },
  {
   "cell_type": "code",
   "execution_count": null,
   "id": "e0d70c77",
   "metadata": {},
   "outputs": [],
   "source": []
  }
 ],
 "metadata": {
  "kernelspec": {
   "display_name": "Python 3 (ipykernel)",
   "language": "python",
   "name": "python3"
  },
  "language_info": {
   "codemirror_mode": {
    "name": "ipython",
    "version": 3
   },
   "file_extension": ".py",
   "mimetype": "text/x-python",
   "name": "python",
   "nbconvert_exporter": "python",
   "pygments_lexer": "ipython3",
   "version": "3.9.13"
  }
 },
 "nbformat": 4,
 "nbformat_minor": 5
}
