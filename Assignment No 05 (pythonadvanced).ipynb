{
 "cells": [
  {
   "cell_type": "markdown",
   "id": "ab59247b",
   "metadata": {},
   "source": [
    "                                 Assignment No 05 (pythonadvanced)\n",
    "                                 "
   ]
  },
  {
   "cell_type": "code",
   "execution_count": null,
   "id": "dce5fa51",
   "metadata": {},
   "outputs": [],
   "source": []
  },
  {
   "cell_type": "markdown",
   "id": "7c06a41f",
   "metadata": {},
   "source": [
    "Que1. What is the meaning of multiple inheritance?\n",
    "\n",
    "Ans:\n",
    "     Inhertence is nothing but reusing the code of parent class by the child class. Similary when a child class inherits its        properties from multiple parent classes thisbscenario is called Multiple Inheritence. Mulitple inheritance is a feature of      some object-iriented computer programming languages inwhich an object or class can inherit features from more than one          parent object or parent class. It is distinct from single inheritance, where an object or class may only inherit from one      particular object or class.\n",
    "     "
   ]
  },
  {
   "cell_type": "code",
   "execution_count": 1,
   "id": "ef3ff95d",
   "metadata": {},
   "outputs": [],
   "source": [
    "class Parent_1:\n",
    "    pass\n",
    "class Parent_2:\n",
    "    pass\n",
    "class child(Parent_1,Parent_2):\n",
    "    pass\n"
   ]
  },
  {
   "cell_type": "code",
   "execution_count": null,
   "id": "54f70bad",
   "metadata": {},
   "outputs": [],
   "source": []
  },
  {
   "cell_type": "markdown",
   "id": "3a62eef8",
   "metadata": {},
   "source": [
    "Que2. What is the concept of delegation?\n",
    "\n",
    "Ans:\n",
    "     Delegation provides a proxy object for any class that we want on top of the main class. It like a wrapper to our class so      that we can access limited resources of the main class. \n",
    "     \n",
    "     It wraps the object of main class into a smaller object with limited access\n",
    "     \n",
    "     It simple terms, Delegation means that we can include an instance of anthor class as an instance variable, and forward          messages to the instance.\n",
    "     "
   ]
  },
  {
   "cell_type": "code",
   "execution_count": 3,
   "id": "2bec75a7",
   "metadata": {},
   "outputs": [
    {
     "name": "stdout",
     "output_type": "stream",
     "text": [
      "Hey i am back\n",
      "Hey i am back\n",
      "Hey i am back\n",
      "Im the main class\n"
     ]
    }
   ],
   "source": [
    "class Myclass:\n",
    "    def sayHi(self):\n",
    "        print('Hey i am back')\n",
    "    def whoAmI(self):\n",
    "        print('Im the main class')\n",
    "class NewClass:\n",
    "    def __init__(self,obj):\n",
    "        self.main = obj\n",
    "    def welcome(self):\n",
    "        self.main.sayHi()\n",
    "        \n",
    "m = Myclass()\n",
    "n = NewClass(m)\n",
    "m.sayHi()\n",
    "n.main.sayHi()\n",
    "n.welcome()\n",
    "n.main.whoAmI()\n"
   ]
  },
  {
   "cell_type": "code",
   "execution_count": null,
   "id": "1bb783b9",
   "metadata": {},
   "outputs": [],
   "source": []
  },
  {
   "cell_type": "markdown",
   "id": "bc1ae623",
   "metadata": {},
   "source": [
    "Que3. What is the concept of composition?\n",
    "\n",
    "Ans:\n",
    "     In the concept of Composition, a class refers to one or more other classes by using instances of those classes an as            instance variable. Irrespective of inheritance, In this approach all parent class members are not inherited into child          class, but only required methods from a class are used by using class instance.\n",
    "     \n",
    "     "
   ]
  },
  {
   "cell_type": "code",
   "execution_count": 2,
   "id": "39430cf9",
   "metadata": {},
   "outputs": [
    {
     "name": "stdout",
     "output_type": "stream",
     "text": [
      "Total Salary : 21600\n"
     ]
    }
   ],
   "source": [
    "class Salary:\n",
    "    def __init__(self,pay):\n",
    "        self.pay = pay\n",
    "    def get_total(self):\n",
    "        return self.pay*12\n",
    "    \n",
    "class Employee:\n",
    "    def __init__(self,pay,bonus):\n",
    "        self.pay = pay\n",
    "        self.bonus = bonus\n",
    "        self.obj_salary = Salary(self.pay)\n",
    "    def annual_salary(self):\n",
    "        return f'Total Salary : {str(self.obj_salary.get_total())}'\n",
    "\n",
    "obj_emp = Employee(1800,1500)\n",
    "print(obj_emp.annual_salary())\n"
   ]
  },
  {
   "cell_type": "code",
   "execution_count": null,
   "id": "6257751d",
   "metadata": {},
   "outputs": [],
   "source": []
  },
  {
   "cell_type": "markdown",
   "id": "0bbe9329",
   "metadata": {},
   "source": [
    "Que4. What are bound methods and how do we use them? \n",
    "\n",
    "Ans:\n",
    "     If a function is an attribute of class and it is accessed via the instances, they are called bound methods. A Bound method      is one instance of classes, these are also known as instance methods.\n",
    "     "
   ]
  },
  {
   "cell_type": "code",
   "execution_count": 3,
   "id": "138fa9f3",
   "metadata": {},
   "outputs": [
    {
     "name": "stdout",
     "output_type": "stream",
     "text": [
      "Called method_one\n",
      "Called method_two\n",
      "Called method_two\n",
      "Called method_three\n"
     ]
    }
   ],
   "source": [
    "class Test:\n",
    "    def method_one(self): # bound method\n",
    "        print(\"Called method_one\")\n",
    "    @classmethod\n",
    "    def method_two(cls): # unbound method\n",
    "        print(\"Called method_two\")\n",
    "    @staticmethod\n",
    "    def method_three(): # Static method\n",
    "        print(\"Called method_three\")\n",
    "        \n",
    "test = Test()\n",
    "test.method_one() # accessing through instance object\n",
    "test.method_two() # accessing through instance object\n",
    "test.method_two() # accessing directly through class\n",
    "test.method_three() # accessing directly through class\n"
   ]
  },
  {
   "cell_type": "code",
   "execution_count": null,
   "id": "13393b65",
   "metadata": {},
   "outputs": [],
   "source": []
  },
  {
   "cell_type": "markdown",
   "id": "769bdade",
   "metadata": {},
   "source": [
    "Que5. What is the purpose of pseudoprivate attributes?\n",
    "\n",
    "Ans:\n",
    "     Pseudoprivate attributes are also useful in larger frameworks or tools, both to avoid introducing new method names that        might accidentally hide definitions elsewhere in the class tree and to reduce the chance of internal methods being              replaced by names defined lower in the tree. If a method is intended for use only within a class that may be mixed into        other classes, the double underscore prefix ensures thar the method won't interfere with other names in the tree,              especially in multiple-inheritance scenarios.\n",
    "     \n",
    "     Pseudoprivate names also prevent subclasses from accidentally redfining the internal method's names,\n",
    "     "
   ]
  },
  {
   "cell_type": "code",
   "execution_count": 3,
   "id": "6471faad",
   "metadata": {},
   "outputs": [],
   "source": [
    "class Super:\n",
    "    def method(self): # A real application method \n",
    "        pass\n",
    "class Tool:\n",
    "    def _method(self): # becomes _Tool_method\n",
    "        pass\n",
    "    def other (self): # uses internal method\n",
    "        self._method()\n",
    "class Subl(Tool,Super):\n",
    "    def actions(self):\n",
    "        self.method()\n",
    "class Sub2(Tool):\n",
    "    def __init__(self):\n",
    "        self.method = 99\n",
    "        "
   ]
  },
  {
   "cell_type": "code",
   "execution_count": null,
   "id": "7e023832",
   "metadata": {},
   "outputs": [],
   "source": []
  },
  {
   "cell_type": "code",
   "execution_count": null,
   "id": "6bdb27b9",
   "metadata": {},
   "outputs": [],
   "source": []
  }
 ],
 "metadata": {
  "kernelspec": {
   "display_name": "Python 3 (ipykernel)",
   "language": "python",
   "name": "python3"
  },
  "language_info": {
   "codemirror_mode": {
    "name": "ipython",
    "version": 3
   },
   "file_extension": ".py",
   "mimetype": "text/x-python",
   "name": "python",
   "nbconvert_exporter": "python",
   "pygments_lexer": "ipython3",
   "version": "3.9.13"
  }
 },
 "nbformat": 4,
 "nbformat_minor": 5
}
