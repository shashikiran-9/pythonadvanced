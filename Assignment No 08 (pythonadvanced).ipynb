{
 "cells": [
  {
   "cell_type": "markdown",
   "id": "1dcda716",
   "metadata": {},
   "source": [
    "                             Assignment No 08 (pythonadvanced)\n",
    "                             "
   ]
  },
  {
   "cell_type": "code",
   "execution_count": null,
   "id": "8ae30680",
   "metadata": {},
   "outputs": [],
   "source": []
  },
  {
   "cell_type": "markdown",
   "id": "57327c68",
   "metadata": {},
   "source": [
    "Que1. What are the two latest user-defined exception constraints in Python 3.X?\n",
    "\n",
    "Ans:\n",
    "     raise and assert are two the latest user-defined exception constraints in Python 3.X\n",
    "     "
   ]
  },
  {
   "cell_type": "code",
   "execution_count": null,
   "id": "ef5e4a66",
   "metadata": {},
   "outputs": [],
   "source": []
  },
  {
   "cell_type": "markdown",
   "id": "85d1b28f",
   "metadata": {},
   "source": [
    "Que2. How are class-based exceptions that have been raised matched to handlers?\n",
    "\n",
    "Ans:\n",
    "     In python, Users can define exception by creating a neew class. This exception class has to be derived, either directly or      indirectly  from built-in-Exception class. This new exception class like other exception can be raised using the raise          statement with an optional error message.\n",
    "     "
   ]
  },
  {
   "cell_type": "code",
   "execution_count": 1,
   "id": "885190fd",
   "metadata": {},
   "outputs": [
    {
     "ename": "ToYoungException",
     "evalue": "To Young For Voting",
     "output_type": "error",
     "traceback": [
      "\u001b[1;31m---------------------------------------------------------------------------\u001b[0m",
      "\u001b[1;31mToYoungException\u001b[0m                          Traceback (most recent call last)",
      "\u001b[1;32m~\\AppData\\Local\\Temp\\ipykernel_10852\\1019652075.py\u001b[0m in \u001b[0;36m<module>\u001b[1;34m\u001b[0m\n\u001b[0;32m      3\u001b[0m         \u001b[0mself\u001b[0m\u001b[1;33m.\u001b[0m\u001b[0mmsg\u001b[0m \u001b[1;33m=\u001b[0m \u001b[0mmsg\u001b[0m\u001b[1;33m\u001b[0m\u001b[1;33m\u001b[0m\u001b[0m\n\u001b[0;32m      4\u001b[0m \u001b[0mage\u001b[0m \u001b[1;33m=\u001b[0m \u001b[1;36m12\u001b[0m\u001b[1;33m\u001b[0m\u001b[1;33m\u001b[0m\u001b[0m\n\u001b[1;32m----> 5\u001b[1;33m \u001b[1;32mif\u001b[0m \u001b[0mage\u001b[0m \u001b[1;33m<=\u001b[0m \u001b[1;36m18\u001b[0m\u001b[1;33m:\u001b[0m \u001b[1;32mraise\u001b[0m \u001b[0mToYoungException\u001b[0m\u001b[1;33m(\u001b[0m\u001b[1;34m'To Young For Voting'\u001b[0m\u001b[1;33m)\u001b[0m\u001b[1;33m\u001b[0m\u001b[1;33m\u001b[0m\u001b[0m\n\u001b[0m",
      "\u001b[1;31mToYoungException\u001b[0m: To Young For Voting"
     ]
    }
   ],
   "source": [
    "class ToYoungException(Exception):\n",
    "    def __init__(self,msg):\n",
    "        self.msg = msg\n",
    "age = 12\n",
    "if age <= 18: raise ToYoungException('To Young For Voting')"
   ]
  },
  {
   "cell_type": "code",
   "execution_count": null,
   "id": "c9a4a010",
   "metadata": {},
   "outputs": [],
   "source": []
  },
  {
   "cell_type": "markdown",
   "id": "5c6db5cf",
   "metadata": {},
   "source": [
    "Que3. Describ infoe two methods for attaching context information to exception artefacts.\n",
    "\n",
    "Ans:\n",
    "     The process() method of LoggerAdapter is where the contextual information is added to the logging output. its passes the        message and keyword arguments of the logging call, and it passes back modified versions of these to use in the underlying      logger.\n",
    "     \n",
    "     Other method that can be used is exception(), Logs a message with level  ERROR on this logger. The arguments are                interpreted as debug(). Exception info is added to the logging message.\n",
    "     "
   ]
  },
  {
   "cell_type": "code",
   "execution_count": null,
   "id": "a3ace5e4",
   "metadata": {},
   "outputs": [],
   "source": []
  },
  {
   "cell_type": "markdown",
   "id": "d80629d1",
   "metadata": {},
   "source": [
    "Que4. Describe two methods for specifying the text of an exception object's error message.\n",
    "\n",
    "Ans:\n",
    "     raise and assert are two methods for specifying the text of an exception object's error message. raise statemenmt is used      to trigger explicit exception, if certain condition is not as per requirement of progtammer. it helps in triggering            exception as per need of programmer and logic.\n",
    "     \n",
    "     There are few assertions that programmer always want to be True to avoid code failure. This type of requirements is            fullfilled by assert statement. This statement takes a Boolean Condition output of which if True, further program              exceutes. if output of assert statement is False it raisees an Assertion Error.\n",
    "     "
   ]
  },
  {
   "cell_type": "code",
   "execution_count": null,
   "id": "f2d28560",
   "metadata": {},
   "outputs": [],
   "source": []
  },
  {
   "cell_type": "markdown",
   "id": "563a9026",
   "metadata": {},
   "source": [
    "Que5. Why do you no longer use string-based exceptions?\n",
    "\n",
    "Ans:\n",
    "     String-based Exceptions doesn't inherit from Exceptions. So Plain exceptions catch all exceptions and not only system.\n",
    "     "
   ]
  },
  {
   "cell_type": "code",
   "execution_count": null,
   "id": "30eba411",
   "metadata": {},
   "outputs": [],
   "source": []
  }
 ],
 "metadata": {
  "kernelspec": {
   "display_name": "Python 3 (ipykernel)",
   "language": "python",
   "name": "python3"
  },
  "language_info": {
   "codemirror_mode": {
    "name": "ipython",
    "version": 3
   },
   "file_extension": ".py",
   "mimetype": "text/x-python",
   "name": "python",
   "nbconvert_exporter": "python",
   "pygments_lexer": "ipython3",
   "version": "3.9.13"
  }
 },
 "nbformat": 4,
 "nbformat_minor": 5
}
