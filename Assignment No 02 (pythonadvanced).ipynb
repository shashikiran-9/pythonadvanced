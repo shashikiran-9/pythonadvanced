{
 "cells": [
  {
   "cell_type": "markdown",
   "id": "785b2bde",
   "metadata": {},
   "source": [
    "                                   Assignment No 02 (Pythonadvanced)"
   ]
  },
  {
   "cell_type": "code",
   "execution_count": null,
   "id": "5f8c20d9",
   "metadata": {},
   "outputs": [],
   "source": []
  },
  {
   "cell_type": "markdown",
   "id": "7da3fdc5",
   "metadata": {},
   "source": [
    "Que1. What is the relationship between classes and modules?\n",
    "\n",
    "Ans:\n",
    "     Classes are blueprints that allow you to create instances with attributes and bound functionality. Classes support              inheritance, metaclasses, and descriptors.\n",
    "     \n",
    "     Whereas, Modules in python is simply a way to organize the code, and it contains either python classes or just \n",
    "     functions. If you need those classes or functions in your project, you just import them.\n",
    "     "
   ]
  },
  {
   "cell_type": "code",
   "execution_count": null,
   "id": "2115493e",
   "metadata": {},
   "outputs": [],
   "source": []
  },
  {
   "cell_type": "markdown",
   "id": "64c752e8",
   "metadata": {},
   "source": [
    "Que2. How do you make instances and classes?\n",
    "\n",
    "Ans:\n",
    "     To create instances of a class, you call using class name and pass in whatever arguments its init method accepts.\n",
    "     "
   ]
  },
  {
   "cell_type": "code",
   "execution_count": null,
   "id": "2c96d090",
   "metadata": {},
   "outputs": [],
   "source": [
    "\"This would create first object of Employee class\"\n",
    "emp1 = Employee(\"Zara\", 2000)\n",
    "\"This would create second object of Employee class\"\n",
    "emp2 = Employee(\"Manni\", 5000)\n"
   ]
  },
  {
   "cell_type": "markdown",
   "id": "c37fa200",
   "metadata": {},
   "source": [
    "   For creating a class, we use the class keyword. Class keyword is followed by classname and semicolon.\n"
   ]
  },
  {
   "cell_type": "code",
   "execution_count": 6,
   "id": "74d2620e",
   "metadata": {},
   "outputs": [],
   "source": [
    "#Example:\n",
    "#Here Employee is a class created with class keyword with arguments gender and salary.\n",
    "\n",
    "class Employee:\n",
    "    def __init__(self, gender, salary):\n",
    "        self.gender = gender\n",
    "        self.salary = salary\n",
    "        "
   ]
  },
  {
   "cell_type": "code",
   "execution_count": null,
   "id": "3276e9b0",
   "metadata": {},
   "outputs": [],
   "source": []
  },
  {
   "cell_type": "markdown",
   "id": "cd0970dc",
   "metadata": {},
   "source": [
    "Que3. Where and how should be class attributes created?\n",
    "\n",
    "Ans:\n",
    "     Class attributes or class level Attributes belong to the class itself. these attributes will be shared by all the              instances of the class. Hence thee attributes are usually created/defined in the top of class definiation outside all          methods.\n",
    "     "
   ]
  },
  {
   "cell_type": "code",
   "execution_count": 7,
   "id": "0db82027",
   "metadata": {},
   "outputs": [],
   "source": [
    "#Example:\n",
    "#In the below code we are defining a class attribute called no_of_wheels which will be shared by all the instances of the class car\n",
    "\n",
    "class Car:\n",
    "    no_of_wheels = 4; # this is a class attribute\n",
    "    def __init__(self,color,price,engine):\n",
    "        self.color = color # All this are instance attributes\n",
    "        self.price = price\n",
    "        self.engine = engine\n"
   ]
  },
  {
   "cell_type": "code",
   "execution_count": null,
   "id": "8173ac67",
   "metadata": {},
   "outputs": [],
   "source": []
  },
  {
   "cell_type": "markdown",
   "id": "c4464a1b",
   "metadata": {},
   "source": [
    "Que4. Where and how are instance attributes created?\n",
    "\n",
    "Ans:\n",
    "     Instances attributes are passed to the class when an object of the class is created. Unlike class attributes, instance          attributes are not shared by all objects of the classs. Instead each object maintains its own copy of instance attributes      at object level whereas incase of class attributes, all instances of class refer to a single copy. Usually instance            attributes are defind within the init method of class.\n",
    "     "
   ]
  },
  {
   "cell_type": "code",
   "execution_count": 8,
   "id": "4ea86daf",
   "metadata": {},
   "outputs": [],
   "source": [
    "#Example:\n",
    "#In the below sample code we are creating a class Car with instance variables color, price, engine, which will be provided when an instance of class car.\n",
    "\n",
    "class Car:\n",
    "    def __init__(self,color,price,engine):\n",
    "        self.color = color # All this are instance attributes\n",
    "        self.price = price\n",
    "        self.engine = engine\n",
    "        \n",
    "nexon_ev = Car('Indigo Blue', 1400000, 'electric')\n",
    "safari = Car('Pearl White', 2100000, 'petrol')\n",
    "\n",
    "#nexon_ev, safari are both the instances of class Car with different instance variables.\n"
   ]
  },
  {
   "cell_type": "code",
   "execution_count": null,
   "id": "60b4a655",
   "metadata": {},
   "outputs": [],
   "source": []
  },
  {
   "cell_type": "markdown",
   "id": "1f929d4c",
   "metadata": {},
   "source": [
    "Que5. What does the term \"self\" in a Python class mean?\n",
    "\n",
    "Ans: \n",
    "     self represents the instance of the class(it represents the object itself). By using the \"self\" keyword we can access the      attributes and methods of the class with in the class in python. It binds the attributes with the given arguments.\n",
    "     "
   ]
  },
  {
   "cell_type": "code",
   "execution_count": 9,
   "id": "41a79e80",
   "metadata": {},
   "outputs": [
    {
     "name": "stdout",
     "output_type": "stream",
     "text": [
      "{'color': 'Indigo Blue', 'price': 1400000, 'engine': 'electric'}\n",
      "{'color': 'Pearl White', 'price': 2100000, 'engine': 'petrol'}\n"
     ]
    }
   ],
   "source": [
    "class Car:\n",
    "    def __init__(self,color,price,engine):\n",
    "        self.color = color # All this are instance attributes\n",
    "        self.price = price\n",
    "        self.engine = engine\n",
    "        \n",
    "nexon_ev = Car('Indigo Blue', 1400000, 'electric')\n",
    "safari = Car('Pearl White', 2100000, 'petrol')\n",
    "\n",
    "print(nexon_ev.__dict__)\n",
    "print(safari.__dict__)\n"
   ]
  },
  {
   "cell_type": "code",
   "execution_count": null,
   "id": "28b169e4",
   "metadata": {},
   "outputs": [],
   "source": []
  },
  {
   "cell_type": "markdown",
   "id": "e8eb566a",
   "metadata": {},
   "source": [
    "Que6. How does a Python class handle operator overloading?\n"
   ]
  },
  {
   "cell_type": "code",
   "execution_count": null,
   "id": "fda3f88c",
   "metadata": {},
   "outputs": [],
   "source": [
    "Python Classes handle operator overloading by using sepcial methods carlled magic methods. This special methods usually begin and end with __ (double)\n",
    "Example: Magic methods for basic arithmetic operators are:\n",
    "        \n",
    "+ -> __add__()\n",
    "- -> __sub__()\n",
    "* -> __mul__()\n",
    "/ -> __div__()\n",
    "\n"
   ]
  },
  {
   "cell_type": "code",
   "execution_count": 3,
   "id": "6bf75f97",
   "metadata": {},
   "outputs": [
    {
     "name": "stdout",
     "output_type": "stream",
     "text": [
      "The total number of pages in 2 books is 1200\n"
     ]
    }
   ],
   "source": [
    "class Book:\n",
    "    def __init__(self,pages):\n",
    "        self.pages = pages\n",
    "    def __add__(self,other):\n",
    "        return self.pages + other.pages\n",
    "b1 = Book(500)\n",
    "b2 = Book(700)\n",
    "print(f'The total number of pages in 2 books is {b1+b2}')\n"
   ]
  },
  {
   "cell_type": "code",
   "execution_count": null,
   "id": "c0a01c06",
   "metadata": {},
   "outputs": [],
   "source": []
  },
  {
   "cell_type": "markdown",
   "id": "2f3e733b",
   "metadata": {},
   "source": [
    "Que7. When do you consider allowing operator overloading of your classes?\n",
    "\n",
    "Ans:\n",
    "     We consider allowing operator overloading when we want to have different meaning for the same operator. For example            operator+is used to add two integers as well as join two strings and merge two lists. It is achievable because'+' operator      is overloaded by iny class and str class.\n",
    "     "
   ]
  },
  {
   "cell_type": "code",
   "execution_count": 4,
   "id": "415143bb",
   "metadata": {},
   "outputs": [
    {
     "name": "stdout",
     "output_type": "stream",
     "text": [
      "3\n",
      "RajeshreeChamat\n",
      "12\n",
      "IneuronIneuronIneuronIneuron\n"
     ]
    }
   ],
   "source": [
    "# Python program to show use of \n",
    "# + operator for different purposes.\n",
    "\n",
    "print(1 + 2)\n",
    "\n",
    "# concatenate two strings\n",
    "print(\"Rajeshree\"+\"Chamat\")\n",
    "\n",
    "# Product two numbers\n",
    "print(3 * 4)\n",
    "\n",
    "# Repeat the String \n",
    "print(\"Ineuron\"*4)\n"
   ]
  },
  {
   "cell_type": "code",
   "execution_count": null,
   "id": "35e7a1d8",
   "metadata": {},
   "outputs": [],
   "source": []
  },
  {
   "cell_type": "markdown",
   "id": "614856d4",
   "metadata": {},
   "source": [
    "Que8. What is the most popular form of operator overloading?\n",
    "\n",
    "Ans:\n",
    "     The most popular form of operator overloading in python is by special methods called magic methods. It usually begins and      ends with double underscore.\n",
    "     "
   ]
  },
  {
   "cell_type": "code",
   "execution_count": 6,
   "id": "8e845efe",
   "metadata": {},
   "outputs": [
    {
     "name": "stdout",
     "output_type": "stream",
     "text": [
      "Sum -> 3\n",
      "String Concatenation -> Rajeshree Chamat\n"
     ]
    }
   ],
   "source": [
    "class A:\n",
    "    def __init__(self,a):\n",
    "        self.a = a\n",
    "    def __add__(self,o):\n",
    "        return self.a+o.a\n",
    "obj1 = A(1)\n",
    "obj2 = A(2)\n",
    "obj3 = A('Rajeshree')\n",
    "obj4 = A(' Chamat')\n",
    "print(f'Sum -> {obj1+obj2}')\n",
    "print(f'String Concatenation -> {obj3+obj4}')\n"
   ]
  },
  {
   "cell_type": "code",
   "execution_count": null,
   "id": "dbf41e0d",
   "metadata": {},
   "outputs": [],
   "source": []
  },
  {
   "cell_type": "markdown",
   "id": "d78e2e82",
   "metadata": {},
   "source": [
    "Que9. What are the two most important concepts to grasp in order to comprehend Python OOP code?\n",
    "\n",
    "Ans:\n",
    "     Classes and objects are the two most important concepts to grasp in order to comprehend python OOP code as more formally        objects are entities that represent instances of general abstract concept called class.\n",
    "     \n",
    "     Along with classes and objects the important concepts to grasp are:\n",
    "     \n",
    "     1. Inheritence\n",
    "     \n",
    "     2. Abstraction\n",
    "     \n",
    "     3. Polymorphism\n",
    "     \n",
    "     4. Encapsulation\n"
   ]
  },
  {
   "cell_type": "code",
   "execution_count": null,
   "id": "993d811a",
   "metadata": {},
   "outputs": [],
   "source": []
  }
 ],
 "metadata": {
  "kernelspec": {
   "display_name": "Python 3 (ipykernel)",
   "language": "python",
   "name": "python3"
  },
  "language_info": {
   "codemirror_mode": {
    "name": "ipython",
    "version": 3
   },
   "file_extension": ".py",
   "mimetype": "text/x-python",
   "name": "python",
   "nbconvert_exporter": "python",
   "pygments_lexer": "ipython3",
   "version": "3.9.13"
  }
 },
 "nbformat": 4,
 "nbformat_minor": 5
}
