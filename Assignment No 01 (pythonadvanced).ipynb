{
 "cells": [
  {
   "cell_type": "markdown",
   "id": "a546d927",
   "metadata": {},
   "source": [
    "                                     Assignment No 01 (pythonadvanced)"
   ]
  },
  {
   "cell_type": "code",
   "execution_count": null,
   "id": "d50e8593",
   "metadata": {},
   "outputs": [],
   "source": []
  },
  {
   "cell_type": "markdown",
   "id": "115e0df6",
   "metadata": {},
   "source": [
    "Que1. What is the purpose of Python's OOP?\n",
    "\n",
    "Ans:\n",
    "     Object-Oriented Programming (OOPs) is Programming paradigm that uses objects and classes in programming. It aims to            implement real-word entities like inheritance, polymorphisms, encapsulation, etc. in the programming. The main concept of      OOPs is to bind the data and the functions that work on that together as a single unit so that no other part of the code        can access this data.\n",
    "     "
   ]
  },
  {
   "cell_type": "code",
   "execution_count": null,
   "id": "3d5e309d",
   "metadata": {},
   "outputs": [],
   "source": []
  },
  {
   "cell_type": "markdown",
   "id": "1a4691fb",
   "metadata": {},
   "source": [
    "Que2. Where does an inheritance search look for an attribute?\n",
    "\n",
    "Ans:\n",
    "     Python searches for an attribute in an upward tree attributes. Tt first searches for the attributes in its instance and        then looks in the class it is generated from, to all super classes listed in its class header. \n"
   ]
  },
  {
   "cell_type": "code",
   "execution_count": null,
   "id": "f4bf9ee5",
   "metadata": {},
   "outputs": [],
   "source": []
  },
  {
   "cell_type": "markdown",
   "id": "3b20751b",
   "metadata": {},
   "source": [
    "Que3. How do you distinguish between a class object and an instance object?\n",
    "\n",
    "Ans:\n",
    "     The differences between a class object and an instance object are:\n",
    "     \n",
    "     1. Class is a template for creating objects whereas object is an instance of class.\n",
    "     \n",
    "     2. Seperate memory is allocated for each object whenever an object is created. but for a class this doesnot happens.\n",
    "     \n",
    "     3. A Class is created once. Many objects are created using a class.\n",
    "     \n",
    "     4. As Classes have no allocated memory. they can't be manipulated. but objects can be manipulated.\n",
    "     \n"
   ]
  },
  {
   "cell_type": "code",
   "execution_count": null,
   "id": "43d8e125",
   "metadata": {},
   "outputs": [],
   "source": []
  },
  {
   "cell_type": "markdown",
   "id": "ec802355",
   "metadata": {},
   "source": [
    "Que4. What makes the first argument in a class’s method function special?\n",
    "\n",
    "Ans:\n",
    "     Python Classes usually have three types of methods which are:\n",
    "     \n",
    "     1. Instance Methods (object level methods)\n",
    "     \n",
    "     2. Class Methods (class level methods)\n",
    "     \n",
    "     3. Static Methods(general utility methods)\n",
    "     \n",
    "     4. self is the first argument for instance methods. which refers to the object itself.\n",
    "     \n",
    "     5. cls is the first argument for class methods which refers to the class itself.\n",
    "     "
   ]
  },
  {
   "cell_type": "code",
   "execution_count": null,
   "id": "94380a80",
   "metadata": {},
   "outputs": [],
   "source": []
  },
  {
   "cell_type": "markdown",
   "id": "b76d2648",
   "metadata": {},
   "source": [
    "Que5. What is the purpose of the __init__ method?\n",
    "\n",
    "Ans:\n",
    "     init is a reseved method in python classes. It severs the role of  a constructor in object oriented teminology. This            method is called when an object is created from a class and it allows the class to initialize attributes of the class.\n",
    "     "
   ]
  },
  {
   "cell_type": "code",
   "execution_count": null,
   "id": "10a3df98",
   "metadata": {},
   "outputs": [],
   "source": []
  },
  {
   "cell_type": "markdown",
   "id": "632597f6",
   "metadata": {},
   "source": [
    "Que6. What is the process for creating a class instance?\n",
    "\n",
    "Ans:\n",
    "     To create a class instance, we need to call the class by its name and pass the arguments to the class, which its init          method accepts. \n",
    "     \n",
    "     Example: my_name=my_class(\"Rajeshree\",\"chamat\") Here my_name is an instance of class my_class with attributes \"Rajeshree\"      and \"chamat\".\n",
    "     "
   ]
  },
  {
   "cell_type": "code",
   "execution_count": null,
   "id": "5a7d86d0",
   "metadata": {},
   "outputs": [],
   "source": []
  },
  {
   "cell_type": "markdown",
   "id": "eae2ec2f",
   "metadata": {},
   "source": [
    "Que7. What is the process for creating a class?\n",
    "\n",
    "Ans:\n",
    "    class keyword is used to created a class in python. The syntax to create a class in python is class:\n",
    "    \n",
    "    Example: class Shape:➞ this creates a class called Shape.\n",
    "    "
   ]
  },
  {
   "cell_type": "code",
   "execution_count": null,
   "id": "ff4d10be",
   "metadata": {},
   "outputs": [],
   "source": []
  },
  {
   "cell_type": "markdown",
   "id": "3c7e325d",
   "metadata": {},
   "source": [
    "Que8. How would you define the superclasses of a class?\n",
    "\n",
    "Ans:\n",
    "     Superclass/Parent class is given as a arugment to the child class\n",
    "     \n",
    "     Example:class Employee(Person):Here child class Employee inherits attributes and methods/functions from Superclass/Parent      Person.\n",
    "     "
   ]
  },
  {
   "cell_type": "code",
   "execution_count": null,
   "id": "5eb972e9",
   "metadata": {},
   "outputs": [],
   "source": []
  },
  {
   "cell_type": "code",
   "execution_count": null,
   "id": "4c024f84",
   "metadata": {},
   "outputs": [],
   "source": []
  }
 ],
 "metadata": {
  "kernelspec": {
   "display_name": "Python 3 (ipykernel)",
   "language": "python",
   "name": "python3"
  },
  "language_info": {
   "codemirror_mode": {
    "name": "ipython",
    "version": 3
   },
   "file_extension": ".py",
   "mimetype": "text/x-python",
   "name": "python",
   "nbconvert_exporter": "python",
   "pygments_lexer": "ipython3",
   "version": "3.9.13"
  }
 },
 "nbformat": 4,
 "nbformat_minor": 5
}
