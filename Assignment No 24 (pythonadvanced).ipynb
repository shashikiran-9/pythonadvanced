{
 "cells": [
  {
   "cell_type": "markdown",
   "id": "cba3d89e",
   "metadata": {},
   "source": [
    "                                      Assignment No 24 (pythonadvanced)\n",
    "                                      "
   ]
  },
  {
   "cell_type": "code",
   "execution_count": null,
   "id": "3c5abe89",
   "metadata": {},
   "outputs": [],
   "source": []
  },
  {
   "cell_type": "markdown",
   "id": "e4913a0f",
   "metadata": {},
   "source": [
    "Que1. Is it permissible to use several import statements to import the same module? What would the goal be? Can you think of a       situation where it would be beneficial?\n",
    "\n",
    "Ans:\n",
    "     Yes, it is permissible to use several import statements to import the same module. It is used in case when we have to          import multiple functions from same module.\n",
    "     "
   ]
  },
  {
   "cell_type": "code",
   "execution_count": null,
   "id": "f84a65e7",
   "metadata": {},
   "outputs": [],
   "source": []
  },
  {
   "cell_type": "markdown",
   "id": "a0c2d752",
   "metadata": {},
   "source": [
    "Que2. What are some of a module&#39;s characteristics? (Name at least one.)\n",
    "\n",
    "Ans:\n",
    "     The following are some of a module's characteristics:\n",
    "     \n",
    "     name: It returns the name of the module\n",
    "     \n",
    "     doc : It denotes the documentation string line written in a module code.\n",
    "\n",
    "     file : It holds the name and path of the module file from which it is loaded\n",
    "\n",
    "     dict : It returns a dictionary object of module attributes, functions and other definitions and their respective values\n"
   ]
  },
  {
   "cell_type": "code",
   "execution_count": null,
   "id": "4ab8412d",
   "metadata": {},
   "outputs": [],
   "source": []
  },
  {
   "cell_type": "markdown",
   "id": "81310296",
   "metadata": {},
   "source": [
    "Que3. Circular importing, such as when two modules import each other, can lead to dependencies and\n",
    "      bugs that aren't visible. How can you go about creating a program that avoids mutual importing?\n",
    "      \n",
    "Ans:\n",
    "     Circular importing means importing the two modules in each other. If suppose we are wokring in MOD1.py file and it is          importing some function say F2() from some other module say MOD2.PY file or we can do vice-versa. What will happen is:          This will give an import error.\n",
    "\n",
    "     This is because when we import F2() function from module MOD2.py, then this will execute MOD2.py file and in MOD2.py file,      there is another statement of importing MOD1.py module.\n",
    "\n",
    "     This will result in endless loop. To avoid this error, we can use if name == 'main'\n",
    "\n",
    "     In this function, we can't directly refer to the function in the program. The addition of this sentence avoids the endless      loop of the program . We can use an if name == \"main\" block to allow or prevent parts of code from being run when the          modules are imported. When the Python interpreter reads a file, the name variable is set as main if the module being run,      or as the module's name if it is imported\n"
   ]
  },
  {
   "cell_type": "code",
   "execution_count": null,
   "id": "0e7b6e3a",
   "metadata": {},
   "outputs": [],
   "source": []
  },
  {
   "cell_type": "markdown",
   "id": "3e80f9ed",
   "metadata": {},
   "source": [
    "Que4. Why is _ _all_ _ in Python?\n",
    "\n",
    "Ans:\n",
    "     It provides the list of all modules present in a library.\n",
    "     "
   ]
  },
  {
   "cell_type": "code",
   "execution_count": null,
   "id": "b9e56a8c",
   "metadata": {},
   "outputs": [],
   "source": []
  },
  {
   "cell_type": "markdown",
   "id": "9813a4be",
   "metadata": {},
   "source": [
    "Que5. In what situation is it useful to refer to the _ _name_ _ attribute or the string '_ _main_ _'?\n",
    "\n",
    "Ans:\n",
    "     During the time of execution of the code, if we want to refer the module in which we are working on, then we use name          attribute. In that case it will return the module in which we are working on. Suppose if the module is being imported from      some other module, then name will have the name of that module from where the current module has been imported. The            current module in which we are working is refer to the string __main __.\n",
    "\n",
    "     This built-in attributes prints the name of the class, type, function, method, descriptor, or generator instance.\n",
    "\n",
    "     For example, if the python interpreter is running that module (the source file) as the main program, it sets the special        name variable to have a value \"main\". If this file is being imported from another module, name will be set to the module's      name."
   ]
  },
  {
   "cell_type": "code",
   "execution_count": null,
   "id": "5f714d17",
   "metadata": {},
   "outputs": [],
   "source": []
  },
  {
   "cell_type": "markdown",
   "id": "d2c1a7af",
   "metadata": {},
   "source": [
    "Que6. What are some of the benefits of attaching a program counter to the RPN interpreter application, which interprets an RPN       script line by line?\n",
    "\n",
    "Ans:\n",
    "     Reverse Polish notation (RPN) is a method for conveying mathematical expressions without the use of separators such as          brackets and parentheses. In this notation, the operators follow their operands, hence removing the need for brackets to        define evaluation priority. The operation is read from left to right but execution is done every time an operator is            reached, and always using the last two numbers as the operands. This notation is suited for computers and calculators          since there are fewer characters to track and fewer operations to execute.\n"
   ]
  },
  {
   "cell_type": "code",
   "execution_count": null,
   "id": "2a23359d",
   "metadata": {},
   "outputs": [],
   "source": []
  },
  {
   "cell_type": "markdown",
   "id": "c5521a00",
   "metadata": {},
   "source": [
    "Que7. What are the minimum expressions or statements (or both) that you&#39;d need to render a basic programming language like       RPN primitive but complete— that is, capable of carrying out any computerised task theoretically possible?\n",
    "\n",
    "Ans:\n",
    "     Expressions are unique in meaning, while statements are two-sided in execution. \n",
    "     For example, 1 has a certain value while go( ) may be executed or not. Statements are the whole structure, while                expressions are the building blocks. For example, a line or a block of code is a statement.\n",
    "\n",
    "     There are five primary categories of expression in JavaScript:\n",
    "     Arithmetic: uses arithmetic operators (+ - * / %).\n",
    "     String: uses string operators and evaluates to a character string.\n",
    "     Logical: evaluates to a boolean value of either True or False and uses boolean operators.\n"
   ]
  },
  {
   "cell_type": "code",
   "execution_count": null,
   "id": "2c611b19",
   "metadata": {},
   "outputs": [],
   "source": []
  }
 ],
 "metadata": {
  "kernelspec": {
   "display_name": "Python 3 (ipykernel)",
   "language": "python",
   "name": "python3"
  },
  "language_info": {
   "codemirror_mode": {
    "name": "ipython",
    "version": 3
   },
   "file_extension": ".py",
   "mimetype": "text/x-python",
   "name": "python",
   "nbconvert_exporter": "python",
   "pygments_lexer": "ipython3",
   "version": "3.9.13"
  }
 },
 "nbformat": 4,
 "nbformat_minor": 5
}
