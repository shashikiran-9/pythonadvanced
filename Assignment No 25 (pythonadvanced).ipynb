{
 "cells": [
  {
   "cell_type": "markdown",
   "id": "c07fabe3",
   "metadata": {},
   "source": [
    "                                 Assignment No 25 (pythonadvanced)\n",
    "                                 "
   ]
  },
  {
   "cell_type": "code",
   "execution_count": null,
   "id": "b7e91d19",
   "metadata": {},
   "outputs": [],
   "source": []
  },
  {
   "cell_type": "markdown",
   "id": "e1221313",
   "metadata": {},
   "source": [
    "Que1. What is the distinction between a numpy array and a pandas data frame? Is there a way to convert between the two if there       is?\n",
    "\n",
    "Ans:\n",
    "     Numpy Ndarray provides a lot of conveni and optimized methods for performing several mathematical operations on vectors.\n",
    "     \n",
    "     Pandas Dataframe is an in-memory 2-dimensional tabular representation of data. in simpler words, it can be seen as a            spreadsheet having rows and columns.\n",
    "     \n",
    "     Conversion:\n",
    "     Dataframe=pandas.Dataframe(array)\n",
    "     "
   ]
  },
  {
   "cell_type": "code",
   "execution_count": null,
   "id": "10e0639e",
   "metadata": {},
   "outputs": [],
   "source": []
  },
  {
   "cell_type": "markdown",
   "id": "20d51f23",
   "metadata": {},
   "source": [
    "Que2. What can go wrong when an user enters in a stock-ticker symbol, and how do you handle it?\n",
    "\n",
    "Ans:\n",
    "     Bar chart, Line chart, Candlestick chart (using mplfinance module) are used for plotting stock market chart.\n",
    "     "
   ]
  },
  {
   "cell_type": "code",
   "execution_count": null,
   "id": "abec2bba",
   "metadata": {},
   "outputs": [],
   "source": []
  },
  {
   "cell_type": "markdown",
   "id": "97a60b26",
   "metadata": {},
   "source": [
    "Que3. Identify some of the plotting techniques that are used to produce a stock-market chart.\n",
    "\n",
    "Ans:\n",
    "     The four types that are most common are--line chart, bar chart, point and figure chart and candlestick chart.\n",
    "     \n",
    "     Creating a Stock Market Chart\n",
    "     \n",
    "     1. Click the Insert on the ribbon.\n",
    "     \n",
    "     2. Click Recommended Charts.\n",
    "     \n",
    "     3. Go to the All Charts tab.\n",
    "     \n",
    "     4. Select Stock in the list of chart types.\n",
    "     \n",
    "     5. Click Volume-High-Low-Close.\n",
    "     \n",
    "     6. Click Ok.\n",
    "     "
   ]
  },
  {
   "cell_type": "code",
   "execution_count": null,
   "id": "f0bda964",
   "metadata": {},
   "outputs": [],
   "source": []
  },
  {
   "cell_type": "markdown",
   "id": "127247e5",
   "metadata": {},
   "source": [
    "Que4. Why is it essential to print a legend on a stock market chart?\n",
    "\n",
    "Ans:\n",
    "     Legend will help us in comparing different stocks in a stock market chart. Each plot of a Stock chart has a legend,            its items representing the series on the plot. In addition, the legend displays information about the points that are          currently hovered over or, if none are hovered over, about the last points shown on the plot. The text of a legend item        includes the name of a series and, depending on the series type, the value or values of the current or last point. The \n",
    "     legend title, enabled by default, shows the current or last date (x-value).\n"
   ]
  },
  {
   "cell_type": "code",
   "execution_count": null,
   "id": "65c21755",
   "metadata": {},
   "outputs": [],
   "source": []
  },
  {
   "cell_type": "markdown",
   "id": "67d2ccbc",
   "metadata": {},
   "source": [
    "Que5. What is the best way to limit the length of a pandas data frame to less than a year?\n",
    "\n",
    "Ans:\n",
    "     We can use start and end parameters for that. In start, we write the date from where we are starting and at the end, we        write the end date. SO within this span we can restrict the duration. Also, we can use the parameters like periods i.e for      how much times we need the duration and we can also use the frequency parameter for that.\n",
    "\n"
   ]
  },
  {
   "cell_type": "code",
   "execution_count": null,
   "id": "54be122b",
   "metadata": {},
   "outputs": [],
   "source": []
  },
  {
   "cell_type": "markdown",
   "id": "71589c48",
   "metadata": {},
   "source": [
    "Que6. What is the definition of a 180-day moving average?\n",
    "\n",
    "Ans:\n",
    "     The 180-day moving average is represented as a line on charts and represents the average price over the past 180 days. The      moving average can give traders a sense regarding whether the trend is up or down, while also identifying potential            support or resistance areas. A moving average (MA) is a stock indicator that is commonly used in technical analysis. The        reason for calculating the moving average of a stock is to help smooth out the price data over a specified period of time      by creating a constantly updated average price. A simple moving average (SMA) is a calculation that takes the arithmetic        mean of a given set of prices over the specific number of days in the past; for example, in this case over 180 days.\n",
    "     "
   ]
  },
  {
   "cell_type": "code",
   "execution_count": null,
   "id": "643fcc19",
   "metadata": {},
   "outputs": [],
   "source": []
  },
  {
   "cell_type": "markdown",
   "id": "f8cf827c",
   "metadata": {},
   "source": [
    "Que7. Did the chapter&#39;s final example use \"indirect\" importing? If so, how exactly do you do it?\n",
    "\n",
    "Ans:\n",
    "     It is a good bet to claim that you have a decent idea of what Import and Export are about. Importing and Exporting              supports the development of national economies and extends the global market.\n",
    "     "
   ]
  },
  {
   "cell_type": "code",
   "execution_count": null,
   "id": "b24a73b4",
   "metadata": {},
   "outputs": [],
   "source": []
  }
 ],
 "metadata": {
  "kernelspec": {
   "display_name": "Python 3 (ipykernel)",
   "language": "python",
   "name": "python3"
  },
  "language_info": {
   "codemirror_mode": {
    "name": "ipython",
    "version": 3
   },
   "file_extension": ".py",
   "mimetype": "text/x-python",
   "name": "python",
   "nbconvert_exporter": "python",
   "pygments_lexer": "ipython3",
   "version": "3.9.13"
  }
 },
 "nbformat": 4,
 "nbformat_minor": 5
}
