{
 "cells": [
  {
   "cell_type": "markdown",
   "id": "7dae8dc4",
   "metadata": {},
   "source": [
    "                                  Assignment No 22 (pythonadvanced)\n",
    "                                  "
   ]
  },
  {
   "cell_type": "code",
   "execution_count": null,
   "id": "b447215c",
   "metadata": {},
   "outputs": [],
   "source": []
  },
  {
   "cell_type": "markdown",
   "id": "bce1e19e",
   "metadata": {},
   "source": [
    "Que1. What are the benefits of the built-in array package, if any?\n",
    "\n",
    "Ans:\n",
    "     Arrays represent multiple data items of the same type using a single name. In arrays, the elements can be accessed              randomly by using the index number. Arrays allocate memory in contiguous memory locations for all its elements. Hence,          there is no chance of extra memory being allocated in case of arrays.  This avoids memory overflow or shortage of memory        in arrays.\n",
    "     \n",
    "     Lists and  NumPy Arrays usually are much better alternatives. That's also the reason why rarely people knows Python has a      built-in Array type.\n",
    "     \n",
    "     However, when something is restricted, it must bring some benefits. That is the so-call \"trade-off\". In this case, Python      Array will have a smaller size than Python List. This is demonstrated below.\n",
    "     "
   ]
  },
  {
   "cell_type": "code",
   "execution_count": 1,
   "id": "da4fbae5",
   "metadata": {},
   "outputs": [
    {
     "data": {
      "text/plain": [
       "800040"
      ]
     },
     "execution_count": 1,
     "metadata": {},
     "output_type": "execute_result"
    }
   ],
   "source": [
    "from array import array\n",
    "list_large = list(range(0,100000))\n",
    "arr_large = array('I', list_large)\n",
    "\n",
    "arr_large.__sizeof__() # Size comes out to be 400064\n",
    "list_large.__sizeof__() # Size comes out to be 900088\n"
   ]
  },
  {
   "cell_type": "code",
   "execution_count": 2,
   "id": "879553eb",
   "metadata": {},
   "outputs": [
    {
     "name": "stdout",
     "output_type": "stream",
     "text": [
      "array('i', [1, 2, 3, 4])\n"
     ]
    }
   ],
   "source": [
    "# Using Built in Array\n",
    "import array as built_in \n",
    "array1 = built_in.array('i', [1, 2])\n",
    "array1.append(3)\n",
    "array1.append(4)\n",
    "print(array1)\n"
   ]
  },
  {
   "cell_type": "code",
   "execution_count": null,
   "id": "31e310c2",
   "metadata": {},
   "outputs": [],
   "source": []
  },
  {
   "cell_type": "markdown",
   "id": "acbb5200",
   "metadata": {},
   "source": [
    "Que2. What are some of the array package's limitations?\n",
    "\n",
    "Ans:\n",
    "     1.The number of elements to be stored in an array should be known in advance.An array is a static structure (which means        the array is of fixed size). Once declared the size of the array cannot be modified. The memory which is allocated to it        cannot be increased or decreased.\n",
    "\n",
    "     2.Insertion and deletion are quite difficult in an array as the elements are stored in consecutive memory locations and        the shifting operation is costly.\n",
    "\n",
    "     3.Allocating more memory than the requirement leads to wastage of memory space and less allocation of memory also leads to      a problem.\n"
   ]
  },
  {
   "cell_type": "code",
   "execution_count": null,
   "id": "547e4089",
   "metadata": {},
   "outputs": [],
   "source": []
  },
  {
   "cell_type": "markdown",
   "id": "bccb706f",
   "metadata": {},
   "source": [
    "Que3. Describe the main differences between the array and numpy packages.\n",
    "\n",
    "Ans:\n",
    "     The array package doesn't provide any help with numerical calculation with the items insdie it in number form while NumPy      give you a wide variety of numerical operations.\n",
    "\n",
    "     An array is a single dimensional entity which hold the numerical data, while numpy can have more than 1 dimension.\n",
    "\n",
    "     In case of array, item can be accessed by its index position and it is easy task while in numpy item is accessed by its        column and row index, which makes it slightly time taking. Same goes with appending operation.\n",
    "\n",
    "     In case of array we do not from a tabular structure, while in numpy it forms a tabular structure.\n"
   ]
  },
  {
   "cell_type": "code",
   "execution_count": null,
   "id": "8269e0ef",
   "metadata": {},
   "outputs": [],
   "source": []
  },
  {
   "cell_type": "markdown",
   "id": "4900cd62",
   "metadata": {},
   "source": [
    "Que4. Explain the distinctions between the empty, ones, and zeros functions.\n",
    "\n",
    "Ans:\n",
    "     The distinctions between the empty, ones, and zero functions are as follows:\n",
    "     \n",
    "     Empty function: An empty function is a function that does not contain any statement within its body. If you try to write a      function definition without any statement in python ,it will return an error. To avoid this, we use pass statement. pass        is a special statement in Python that does nothing. It only works as a dummy statement.\n",
    "\n",
    "     Ones: This function returns a new array of given shape and data type, where the element’s value is 1.\n",
    "\n",
    "     Zeros: This function returns a new array of given shape and data type, where the element's value is 0.\n"
   ]
  },
  {
   "cell_type": "code",
   "execution_count": null,
   "id": "6cdbd390",
   "metadata": {},
   "outputs": [],
   "source": []
  },
  {
   "cell_type": "markdown",
   "id": "0e4f1d24",
   "metadata": {},
   "source": [
    "Que5. In the fromfunction function, which is used to construct new arrays, what is the role of the callable argument?\n",
    "\n",
    "Ans:\n",
    "     Its function is to execute the function over each coordinate and array. The function is called with N parameters, where N      is rank of shape. Each parameter represents the coordinates of the array varying along a specific axis.\n",
    "     "
   ]
  },
  {
   "cell_type": "code",
   "execution_count": null,
   "id": "3875387e",
   "metadata": {},
   "outputs": [],
   "source": []
  },
  {
   "cell_type": "markdown",
   "id": "afcedc99",
   "metadata": {},
   "source": [
    "Que6. What happens when a numpy array is combined with a single-value operand (a scalar, such as an int or a floating-point           value) through addition, as in the expression A + n?\n",
    "\n",
    "Ans:\n",
    "     If any scaler balue such as integer is added to the numpy array then all the elements inside the array will add that value      in it.\n",
    "     "
   ]
  },
  {
   "cell_type": "code",
   "execution_count": null,
   "id": "341c9bf3",
   "metadata": {},
   "outputs": [],
   "source": []
  },
  {
   "cell_type": "markdown",
   "id": "bd00a463",
   "metadata": {},
   "source": [
    "Que7. Can array-to-scalar operations use combined operation-assign operators (such as += or *=)? What is the outcome?\n",
    "\n",
    "Ans:\n",
    "     It will carry out provided operation on all elements of array.\n",
    "     "
   ]
  },
  {
   "cell_type": "code",
   "execution_count": null,
   "id": "e10f6907",
   "metadata": {},
   "outputs": [],
   "source": []
  },
  {
   "cell_type": "markdown",
   "id": "48583679",
   "metadata": {},
   "source": [
    "Que8. Does a numpy array contain fixed-length strings? What happens if you allocate a longer string to one of these arrays?\n",
    "\n",
    "Ans:\n",
    "     Yes, it is possible that we can include a string of fixed length in numpy array. The dtype of any numpy array containing        string values is the maximum length of any string present in the array.Once set, it will only be able to store new string      having length not more than the maximum length at the time of the creation. If we try to reassign some another string          value having length greater than the maximum length of the existing elements, it simply discards all the values beyond the      maximum length accept upto those values which are under the limit.\n",
    "     "
   ]
  },
  {
   "cell_type": "code",
   "execution_count": null,
   "id": "89c443d2",
   "metadata": {},
   "outputs": [],
   "source": []
  },
  {
   "cell_type": "markdown",
   "id": "9173bf60",
   "metadata": {},
   "source": [
    "Que9. What happens when you combine two numpy arrays using an operation like addition (+) or\n",
    "      multiplication (*)? What are the conditions for combining two numpy arrays?\n",
    "\n",
    "Ans:\n",
    "     It will simply add or multiply element to element at same position.\n",
    "     "
   ]
  },
  {
   "cell_type": "code",
   "execution_count": null,
   "id": "4db5499d",
   "metadata": {},
   "outputs": [],
   "source": []
  },
  {
   "cell_type": "markdown",
   "id": "a07d38d1",
   "metadata": {},
   "source": [
    "Que10. What is the best way to use a Boolean array to mask another array?\n",
    "\n",
    "Ans:\n",
    "     The best way to use a Boolean array to mask another array is by Using Masked_where of numpy package.\n",
    "     "
   ]
  },
  {
   "cell_type": "code",
   "execution_count": null,
   "id": "1a8e36c3",
   "metadata": {},
   "outputs": [],
   "source": []
  },
  {
   "cell_type": "markdown",
   "id": "16cfa392",
   "metadata": {},
   "source": [
    "Que11. What are three different ways to get the standard deviation of a wide collection of data using\n",
    "       both standard Python and its packages? Sort the three of them by how quickly they execute.\n",
    "\n",
    "Ans:\n",
    "     std() from Numpy package, stdev() from Statistics package and the third way is to write our own code as done with the help      of math package below:\n",
    "     "
   ]
  },
  {
   "cell_type": "code",
   "execution_count": 4,
   "id": "85330ef0",
   "metadata": {},
   "outputs": [
    {
     "name": "stdout",
     "output_type": "stream",
     "text": [
      "Standard Deviation of the sample is 17.56337730114064 \n"
     ]
    }
   ],
   "source": [
    "import numpy as np # for declaring an array\n",
    "\n",
    "def mean(data):\n",
    "    n = len(data)\n",
    "    mean = sum(data) / n\n",
    "    return mean \n",
    "\n",
    "def variance(data):\n",
    "    n = len(data)\n",
    "    mean = sum(data) / n\n",
    "    deviations = [(x - mean) ** 2 for x in data]\n",
    "    variance = sum(deviations) / n\n",
    "    return variance\n",
    "\n",
    "def stdev(data):\n",
    "  import math\n",
    "  var = variance(data)\n",
    "  std_dev = math.sqrt(var)\n",
    "  return std_dev\n",
    "\n",
    "data = np.array([7,5,4,9,12,54])\n",
    "\n",
    "print(\"Standard Deviation of the sample is % s \"% (stdev(data)))\n"
   ]
  },
  {
   "cell_type": "code",
   "execution_count": null,
   "id": "de06e6bd",
   "metadata": {},
   "outputs": [],
   "source": []
  },
  {
   "cell_type": "markdown",
   "id": "bd04eb5f",
   "metadata": {},
   "source": [
    "Que12. What is the dimensionality of a Boolean mask-generated array?\n",
    "\n",
    "Ans:\n",
    "     It will have same dimensionality as input array. Masking comes up when we want to extract, modify, count, or otherwise          manipulate values in an array based on some criterion: for example, we might wish to count all values greater than a            certain value, or perhaps remove all outliers that are above some threshold. In NumPy, Boolean masking is often the most        efficient way to accomplish these types of tasks.\n",
    "     "
   ]
  },
  {
   "cell_type": "code",
   "execution_count": null,
   "id": "4060aa52",
   "metadata": {},
   "outputs": [],
   "source": []
  }
 ],
 "metadata": {
  "kernelspec": {
   "display_name": "Python 3 (ipykernel)",
   "language": "python",
   "name": "python3"
  },
  "language_info": {
   "codemirror_mode": {
    "name": "ipython",
    "version": 3
   },
   "file_extension": ".py",
   "mimetype": "text/x-python",
   "name": "python",
   "nbconvert_exporter": "python",
   "pygments_lexer": "ipython3",
   "version": "3.9.13"
  }
 },
 "nbformat": 4,
 "nbformat_minor": 5
}
