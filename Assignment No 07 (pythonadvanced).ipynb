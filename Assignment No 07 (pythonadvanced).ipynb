{
 "cells": [
  {
   "cell_type": "markdown",
   "id": "627e7d67",
   "metadata": {},
   "source": [
    "                                Assignment no 07 (pythonadvanced)"
   ]
  },
  {
   "cell_type": "code",
   "execution_count": null,
   "id": "41625e5c",
   "metadata": {},
   "outputs": [],
   "source": []
  },
  {
   "cell_type": "markdown",
   "id": "82c29afd",
   "metadata": {},
   "source": [
    "Que1. What is the purpose of the try statement?\n",
    "\n",
    "Ans:\n",
    "     try statement is used for exception handling in python. It consists of a block of risky statements which might cause an        exception during runtime. If code within try block raise exception, then the exception will be reverted to the                  corresponding except block when multiple except blocks are present, else it will be reverted to the default except block.      In short, try and except in union avoid programs from crashing during runtime due to exceptions.\n",
    "     "
   ]
  },
  {
   "cell_type": "code",
   "execution_count": 1,
   "id": "65f10d86",
   "metadata": {},
   "outputs": [
    {
     "name": "stdout",
     "output_type": "stream",
     "text": [
      "Division by Zero is Not Possible\n"
     ]
    }
   ],
   "source": [
    "try:\n",
    "    print(30/0)\n",
    "except ZeroDivisionError:\n",
    "    print('Division by Zero is Not Possible')\n",
    "    "
   ]
  },
  {
   "cell_type": "code",
   "execution_count": null,
   "id": "411c358d",
   "metadata": {},
   "outputs": [],
   "source": []
  },
  {
   "cell_type": "markdown",
   "id": "80637a48",
   "metadata": {},
   "source": [
    "Que2. What are the two most popular try statement variations?\n",
    "\n",
    "Ans:\n",
    "     The Popular try statement variation are:\n",
    "     \n",
    "     1. try,except\n",
    "     \n",
    "     2. try,except,finally\n",
    "     \n",
    "     3. try,except,finally,else\n",
    "     \n",
    "     The try block is used to check code for exceptions during runtime.i.e. code inside try block will execute completely when      there is no error in the program where as the code inside except block will execute whenever the program encounters some        error in the preceeding try block.\n",
    "     \n",
    "     Where as the code enters the else block if and only if the try clause does not raise an exception. The code in the finally      block will execute irrespective of exception.\n",
    "     "
   ]
  },
  {
   "cell_type": "code",
   "execution_count": null,
   "id": "968a917a",
   "metadata": {},
   "outputs": [],
   "source": []
  },
  {
   "cell_type": "markdown",
   "id": "88c3ce43",
   "metadata": {},
   "source": [
    "Que3. What is the purpose of the raise statement?\n",
    "\n",
    "Ans:\n",
    "     raise statement is used to trigger an exception explicitly, if a certain condition is not as per requirement of                programmer. raise statement helps in triggering exception as per programming logic.\n",
    "     "
   ]
  },
  {
   "cell_type": "code",
   "execution_count": null,
   "id": "366f39e3",
   "metadata": {},
   "outputs": [],
   "source": []
  },
  {
   "cell_type": "markdown",
   "id": "2fec5ba3",
   "metadata": {},
   "source": [
    "Que4. What does the assert statement do, and what other statement is it like?\n",
    "\n",
    "Ans:\n",
    "     There are few assertions that programmer always want to be true to avoid code failure. This type of requirement is              fulfilled by assert statement. This statement takes a boolean condition output of which is True which in turn helps            Further Program Execute. If output of assert statement is False, it raises an Assertioon Error.\n",
    "     "
   ]
  },
  {
   "cell_type": "code",
   "execution_count": 2,
   "id": "74f9d7a8",
   "metadata": {},
   "outputs": [
    {
     "ename": "AssertionError",
     "evalue": "this is not a valid statement",
     "output_type": "error",
     "traceback": [
      "\u001b[1;31m---------------------------------------------------------------------------\u001b[0m",
      "\u001b[1;31mAssertionError\u001b[0m                            Traceback (most recent call last)",
      "\u001b[1;32m~\\AppData\\Local\\Temp\\ipykernel_460\\4203093858.py\u001b[0m in \u001b[0;36m<module>\u001b[1;34m\u001b[0m\n\u001b[1;32m----> 1\u001b[1;33m \u001b[1;32massert\u001b[0m\u001b[1;33m(\u001b[0m\u001b[1;36m2\u001b[0m \u001b[1;33m==\u001b[0m \u001b[1;36m10\u001b[0m\u001b[1;33m)\u001b[0m\u001b[1;33m,\u001b[0m \u001b[1;34mf'this is not a valid statement'\u001b[0m\u001b[1;33m\u001b[0m\u001b[1;33m\u001b[0m\u001b[0m\n\u001b[0m",
      "\u001b[1;31mAssertionError\u001b[0m: this is not a valid statement"
     ]
    }
   ],
   "source": [
    "assert(2 == 10), f'this is not a valid statement'"
   ]
  },
  {
   "cell_type": "code",
   "execution_count": null,
   "id": "f53f39dc",
   "metadata": {},
   "outputs": [],
   "source": []
  },
  {
   "cell_type": "markdown",
   "id": "50d95a06",
   "metadata": {},
   "source": [
    "Que5. What is the purpose of the with/as argument, and what other statement is it like?\n",
    "\n",
    "Ans: \n",
    "     with/as statement simplifies use of file handing in python. When we use a with statement for file reading, there is no          need for programmer to explicitly take care of activities like resource deallocation and file closing by using                  file.close() method. with statement itself ensures proper acquisition and release of resources. This avoids triggering of      exceptions if the file closing is unkonwingly forgotten in the code execution. \n",
    "     \n",
    "     with open('sample_file.txt','w')as file:\n",
    "     \n",
    "          file.write('Hello World')\n",
    "          "
   ]
  },
  {
   "cell_type": "code",
   "execution_count": null,
   "id": "e6daafd4",
   "metadata": {},
   "outputs": [],
   "source": []
  }
 ],
 "metadata": {
  "kernelspec": {
   "display_name": "Python 3 (ipykernel)",
   "language": "python",
   "name": "python3"
  },
  "language_info": {
   "codemirror_mode": {
    "name": "ipython",
    "version": 3
   },
   "file_extension": ".py",
   "mimetype": "text/x-python",
   "name": "python",
   "nbconvert_exporter": "python",
   "pygments_lexer": "ipython3",
   "version": "3.9.13"
  }
 },
 "nbformat": 4,
 "nbformat_minor": 5
}
