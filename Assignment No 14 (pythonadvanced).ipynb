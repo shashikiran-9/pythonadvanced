{
 "cells": [
  {
   "cell_type": "markdown",
   "id": "675d3fdf",
   "metadata": {},
   "source": [
    "                                  Assignment No 14 (pythonadvanced)\n",
    "                                  "
   ]
  },
  {
   "cell_type": "code",
   "execution_count": null,
   "id": "e15a324e",
   "metadata": {},
   "outputs": [],
   "source": []
  },
  {
   "cell_type": "markdown",
   "id": "958d8d2f",
   "metadata": {},
   "source": [
    "Que1. Is an assignment operator like += only for show? Is it possible that it would lead to faster results at the runtime?\n",
    "\n",
    "Ans: \n",
    "     A=A+1 evalutes to finding A, adding 1 to it. Then storing the value again in variable A. This expression makes Python to        look for memory holder of 'a' twice. But A+=1 simply means values of A is to incremented by 1. As memory address has to be      identified once, +=leads to faster operation.\n",
    "     "
   ]
  },
  {
   "cell_type": "code",
   "execution_count": null,
   "id": "770ba1f2",
   "metadata": {},
   "outputs": [],
   "source": []
  },
  {
   "cell_type": "markdown",
   "id": "8f26b208",
   "metadata": {},
   "source": [
    "Que2. What is the smallest number of statements you&#39;d have to write in most programming languages to\n",
    "    replace the Python expression a, b = a + b, a?\n",
    "     \n",
    "Ans:\n",
    "      Minimum number of lines required to write above code in anguages other Python will be 4, two for assiging intial values         for variables a and b, and two for reassignment i.e. a=a+b and b=a.\n",
    "      "
   ]
  },
  {
   "cell_type": "code",
   "execution_count": null,
   "id": "b5259c9e",
   "metadata": {},
   "outputs": [],
   "source": []
  },
  {
   "cell_type": "markdown",
   "id": "7575da50",
   "metadata": {},
   "source": [
    "Que3. In Python, what is the most effective way to set a list of 100 integers to 0?\n",
    "\n",
    "Ans:\n",
    "     The Most effective way to set a list of 100 integers to 0 in Python is by using repition operator(*) or by using list          comprehension.\n",
    "     "
   ]
  },
  {
   "cell_type": "code",
   "execution_count": 1,
   "id": "1c6471ce",
   "metadata": {},
   "outputs": [
    {
     "name": "stdout",
     "output_type": "stream",
     "text": [
      "[0, 0, 0, 0, 0, 0, 0, 0, 0, 0, 0, 0, 0, 0, 0, 0, 0, 0, 0, 0, 0, 0, 0, 0, 0, 0, 0, 0, 0, 0, 0, 0, 0, 0, 0, 0, 0, 0, 0, 0, 0, 0, 0, 0, 0, 0, 0, 0, 0, 0, 0, 0, 0, 0, 0, 0, 0, 0, 0, 0, 0, 0, 0, 0, 0, 0, 0, 0, 0, 0, 0, 0, 0, 0, 0, 0, 0, 0, 0, 0, 0, 0, 0, 0, 0, 0, 0, 0, 0, 0, 0, 0, 0, 0, 0, 0, 0, 0, 0, 0]\n",
      "[0, 0, 0, 0, 0, 0, 0, 0, 0, 0, 0, 0, 0, 0, 0, 0, 0, 0, 0, 0, 0, 0, 0, 0, 0, 0, 0, 0, 0, 0, 0, 0, 0, 0, 0, 0, 0, 0, 0, 0, 0, 0, 0, 0, 0, 0, 0, 0, 0, 0, 0, 0, 0, 0, 0, 0, 0, 0, 0, 0, 0, 0, 0, 0, 0, 0, 0, 0, 0, 0, 0, 0, 0, 0, 0, 0, 0, 0, 0, 0, 0, 0, 0, 0, 0, 0, 0, 0, 0, 0, 0, 0, 0, 0, 0, 0, 0, 0, 0, 0]\n"
     ]
    }
   ],
   "source": [
    "# Method 1\n",
    "list_zero=[0]*100\n",
    "print(list_zero)\n",
    "# Method 2\n",
    "zero_list = [0 for x in range(100)]\n",
    "print(zero_list)\n"
   ]
  },
  {
   "cell_type": "code",
   "execution_count": null,
   "id": "659652eb",
   "metadata": {},
   "outputs": [],
   "source": []
  },
  {
   "cell_type": "markdown",
   "id": "276a7df1",
   "metadata": {},
   "source": [
    "Que4. What is the most effective way to initialise a list of 99 integers that repeats the sequence 1, 2, 3?\n",
    "      S If necessary, show step-by-step instructions on how to accomplish this.\n"
   ]
  },
  {
   "cell_type": "code",
   "execution_count": 2,
   "id": "f8711cc0",
   "metadata": {},
   "outputs": [
    {
     "name": "stdout",
     "output_type": "stream",
     "text": [
      "[1, 2, 3, 1, 2, 3, 1, 2, 3, 1, 2, 3, 1, 2, 3, 1, 2, 3, 1, 2, 3, 1, 2, 3, 1, 2, 3, 1, 2, 3, 1, 2, 3, 1, 2, 3, 1, 2, 3, 1, 2, 3, 1, 2, 3, 1, 2, 3, 1, 2, 3, 1, 2, 3, 1, 2, 3, 1, 2, 3, 1, 2, 3, 1, 2, 3, 1, 2, 3, 1, 2, 3, 1, 2, 3, 1, 2, 3, 1, 2, 3, 1, 2, 3, 1, 2, 3, 1, 2, 3, 1, 2, 3, 1, 2, 3, 1, 2, 3]\n"
     ]
    }
   ],
   "source": [
    "my_list = [1,2,3]*33\n",
    "print(my_list)\n"
   ]
  },
  {
   "cell_type": "code",
   "execution_count": null,
   "id": "1e14e44c",
   "metadata": {},
   "outputs": [],
   "source": []
  },
  {
   "cell_type": "markdown",
   "id": "b23ecf40",
   "metadata": {},
   "source": [
    "Que5. If you're using IDLE to run a Python application, explain how to print a multidimensional list asefficiently?\n"
   ]
  },
  {
   "cell_type": "code",
   "execution_count": 4,
   "id": "df49a918",
   "metadata": {},
   "outputs": [
    {
     "name": "stdout",
     "output_type": "stream",
     "text": [
      "1 1 2 2 3 3 4 4 5 5 "
     ]
    }
   ],
   "source": [
    "my_list = [[1,1],[2,2],[3,3],[4,4],[5,5]] # 2 dimensional list\n",
    "for x in range(len(my_list)):\n",
    "    for y in range(len(my_list[x])):\n",
    "        print(my_list[x][y],end=\" \")\n",
    "        "
   ]
  },
  {
   "cell_type": "code",
   "execution_count": null,
   "id": "fa80c44c",
   "metadata": {},
   "outputs": [],
   "source": []
  },
  {
   "cell_type": "markdown",
   "id": "2dccf0b1",
   "metadata": {},
   "source": [
    "Que6. Is it possible to use list comprehension with a string? If so, how can you go about doing it?\n",
    "\n",
    "Ans:\n",
    "     List comprehension with string is possible.\n",
    " "
   ]
  },
  {
   "cell_type": "code",
   "execution_count": 5,
   "id": "81688fc6",
   "metadata": {},
   "outputs": [
    {
     "name": "stdout",
     "output_type": "stream",
     "text": [
      "['i', 'N', 'e', 'u', 'r', 'o', 'n']\n"
     ]
    }
   ],
   "source": [
    "my_list = [ele for ele in 'iNeuron']\n",
    "print(my_list)\n"
   ]
  },
  {
   "cell_type": "code",
   "execution_count": null,
   "id": "864175ac",
   "metadata": {},
   "outputs": [],
   "source": []
  },
  {
   "cell_type": "markdown",
   "id": "5705c7d9",
   "metadata": {},
   "source": [
    "Que7. From the command line, how do you get support with a user-written Python programme? Is this possible from inside IDLE?\n",
    "\n",
    "Ans:\n",
    "     Get support with a user-written Python Programming:Start a command prompt (windows) or terminal window (Linux/Mac). If the      current working directory is the same as the location in which you saved the file, you can simply specify the filename as      a commmand-line argument to the Python interpreter.\n",
    "     \n",
    "     Get support with a User-written Python Program from IDLE: You can also create script files and run them in IDLE. From the      Shell window menu, select File → New File. That should open an additional editing window. Type in the code to be executed.      From the mean in that window, select File → Save or File →  Save As...and save the file to disk. Then select Run → Run          Moudule.The output should appear back in the interpreter.\n",
    "     "
   ]
  },
  {
   "cell_type": "code",
   "execution_count": null,
   "id": "0adcc128",
   "metadata": {},
   "outputs": [],
   "source": []
  },
  {
   "cell_type": "markdown",
   "id": "34ec5af2",
   "metadata": {},
   "source": [
    "Que8. Functions are said to be “first-class objects” in Python but not in most other languages, such as C++ or Java. What can         you do in Python with a function (callable object) that you can't do in C or C++?\n",
    "\n",
    "Ans:\n",
    "     The tasks which can be performed with the functions in python are:\n",
    "     \n",
    "     1. A function is an instance of the object type.\n",
    "     \n",
    "     2. You can store the function in a variable.\n",
    "     \n",
    "     3. You can pass the function as a parameter to another function.\n",
    "     \n",
    "     4. You can return the function from a function.\n",
    "     \n",
    "     5. You can store them in data structures such as hash tables, lists,\n",
    "     "
   ]
  },
  {
   "cell_type": "code",
   "execution_count": null,
   "id": "f20de7dd",
   "metadata": {},
   "outputs": [],
   "source": []
  },
  {
   "cell_type": "markdown",
   "id": "c65cf72d",
   "metadata": {},
   "source": [
    "Que9. How do you distinguish between a wrapper, a wrapped feature, and a decorator?\n",
    "\n",
    "Ans:\n",
    "      Wrappers Around the functions are known as Decrators.\n",
    "      "
   ]
  },
  {
   "cell_type": "code",
   "execution_count": null,
   "id": "9b1eab48",
   "metadata": {},
   "outputs": [],
   "source": []
  },
  {
   "cell_type": "markdown",
   "id": "148f8455",
   "metadata": {},
   "source": [
    "Que10. If a function is a generator function, what does it return?\n",
    "\n",
    "Ans:\n",
    "     Generator functions are a special kind of function that return a lazy iterator. These are objects that you can loop over        like a list. However, unlike lists, lazy iterators do not store their contents in memory.\n",
    "     "
   ]
  },
  {
   "cell_type": "code",
   "execution_count": null,
   "id": "eb362157",
   "metadata": {},
   "outputs": [],
   "source": []
  },
  {
   "cell_type": "markdown",
   "id": "e1b2c9f4",
   "metadata": {},
   "source": [
    "Que11. What is the one improvement that must be made to a function in order for it to become a generator function in the Python        language?\n",
    "\n",
    "Ans:\n",
    "     Generator is a written as normal function but uses yield keyword to return values instead of return keyword.\n",
    "     "
   ]
  },
  {
   "cell_type": "code",
   "execution_count": null,
   "id": "6d43fc36",
   "metadata": {},
   "outputs": [],
   "source": []
  },
  {
   "cell_type": "markdown",
   "id": "e0273fa9",
   "metadata": {},
   "source": [
    "Que12. Identify at least one benefit of generators.\n",
    "\n",
    "Ans:\n",
    "     return statement sends a specified values back to its caller whereas yield statement can produce a sequence of values. We      should use generator when we want to iterate over a sequence, but don't want to store the entire sequence in memory.\n",
    "     "
   ]
  },
  {
   "cell_type": "code",
   "execution_count": null,
   "id": "3b371288",
   "metadata": {},
   "outputs": [],
   "source": []
  }
 ],
 "metadata": {
  "kernelspec": {
   "display_name": "Python 3 (ipykernel)",
   "language": "python",
   "name": "python3"
  },
  "language_info": {
   "codemirror_mode": {
    "name": "ipython",
    "version": 3
   },
   "file_extension": ".py",
   "mimetype": "text/x-python",
   "name": "python",
   "nbconvert_exporter": "python",
   "pygments_lexer": "ipython3",
   "version": "3.9.13"
  }
 },
 "nbformat": 4,
 "nbformat_minor": 5
}
