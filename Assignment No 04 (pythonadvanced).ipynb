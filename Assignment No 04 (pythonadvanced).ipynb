{
 "cells": [
  {
   "cell_type": "markdown",
   "id": "7faf86f4",
   "metadata": {},
   "source": [
    "                              Assigment No 04 (pythonadanced)"
   ]
  },
  {
   "cell_type": "code",
   "execution_count": null,
   "id": "99caf69d",
   "metadata": {},
   "outputs": [],
   "source": []
  },
  {
   "cell_type": "markdown",
   "id": "4656667b",
   "metadata": {},
   "source": [
    "Que1. Which two operator overloading methods can you use in your classes to support iteration?\n",
    "\n",
    "Ans:\n",
    "     __ _iter__and__ _next__are the operator overloading methods in python that support iteration and are collectively called        iterator protocol.\n",
    "     \n",
    "    __ _iter__returns the iterator object and is called at the start of loop in our respective class.\n",
    "    \n",
    "    __ _next__is called at each loop increment, it returns the incremented value. Also Stopiteration  is no value to return.\n",
    "    \n",
    "    "
   ]
  },
  {
   "cell_type": "code",
   "execution_count": 5,
   "id": "f202bbe3",
   "metadata": {},
   "outputs": [
    {
     "name": "stdout",
     "output_type": "stream",
     "text": [
      "5 6 7 8 9 10 11 12 13 14 15 16 17 18 19 20 21 22 23 24 25 26 27 28 29 30 31 32 33 34 35 "
     ]
    }
   ],
   "source": [
    "class Counter:\n",
    "    def __init__(self,low,high):\n",
    "        self.current = low \n",
    "        self.high = high\n",
    "    def __iter__(self):\n",
    "        return self \n",
    "    def __next__(self):\n",
    "        if self.current > self.high:\n",
    "            raise StopIteration\n",
    "        else:\n",
    "            self.current += 1 \n",
    "            return self.current - 1\n",
    "for ele in Counter(5,35):\n",
    "    print(ele, end=\" \")\n",
    "    "
   ]
  },
  {
   "cell_type": "code",
   "execution_count": null,
   "id": "31b1c360",
   "metadata": {},
   "outputs": [],
   "source": []
  },
  {
   "cell_type": "markdown",
   "id": "73b90c26",
   "metadata": {},
   "source": [
    "Que2. In what contexts do the two operator overloading methods manage printing?\n",
    "\n",
    "Ans: \n",
    "     str and repr are two operator overloading methods that manage printing.\n",
    "     \n",
    "     The difference between both of these operator is: The goal of repr is to be unambiguous and str is to be readable.\n",
    "     \n",
    "     Whenever we are printing any object reference internally,str method will be called by default.\n",
    "     \n",
    "     The main purpose of str is for readability. It prints the informal string representation of an object, one that is useful      for printing the object.It may not be possible to convert result string to original object.\n",
    "     \n",
    "     repr is used to print official string representation of object, so it includes all information and development.\n",
    "     \n",
    "     "
   ]
  },
  {
   "cell_type": "code",
   "execution_count": 7,
   "id": "2bb65e67",
   "metadata": {},
   "outputs": [
    {
     "name": "stdout",
     "output_type": "stream",
     "text": [
      "<__main__.Student object at 0x00000207610256A0>\n",
      "Student Name: Rajeshree and Roll No: 1\n",
      "2023-01-05 22:47:48.174607\n",
      "Unable to convert back to original object\n",
      "datetime.datetime(2023, 1, 5, 22, 47, 48, 174607)\n",
      "2023-01-05 22:47:48.174607\n"
     ]
    }
   ],
   "source": [
    "class Student:\n",
    "    def __init__(self,name,roll_no):\n",
    "        self.name = name\n",
    "        self.roll_no = roll_no\n",
    "        \n",
    "s1 = Student(\"Mano\",1)\n",
    "print(str(s1))\n",
    "\n",
    "class Student:\n",
    "    def __init__(self,name,roll_no):\n",
    "        self.name = name\n",
    "        self.roll_no = roll_no\n",
    "    def __str__(self):\n",
    "        return f'Student Name: {self.name} and Roll No: {self.roll_no}'\n",
    "        \n",
    "s1 = Student(\"Rajeshree\",1)\n",
    "print(str(s1))\n",
    "\n",
    "import datetime \n",
    "today = datetime.datetime.now()\n",
    "\n",
    "s = str(today) # converting datetime object to presentable str\n",
    "print(s)\n",
    "try: d = eval(s) # Converting str back to datetime object\n",
    "except: print(\"Unable to convert back to original object\")\n",
    "    \n",
    "u = repr(today) # Converting datetime object to str \n",
    "print(u)\n",
    "e = eval(u) # Converting str back to datetime object \n",
    "print(e)\n"
   ]
  },
  {
   "cell_type": "code",
   "execution_count": null,
   "id": "647657cd",
   "metadata": {},
   "outputs": [],
   "source": []
  },
  {
   "cell_type": "markdown",
   "id": "8041a58b",
   "metadata": {},
   "source": [
    "Que3. In a class, how do you intercept slice operations?\n",
    "\n",
    "Ans:\n",
    "     In a class use of slice(),__getitem__method is used for intercept slice operation. This slice method is provided with          start integer number, stop integer number and step integer number.\n",
    "     \n",
    "     Example:__getitem__(slice(start,stop,step))\n",
    "     "
   ]
  },
  {
   "cell_type": "code",
   "execution_count": null,
   "id": "152d440e",
   "metadata": {},
   "outputs": [],
   "source": []
  },
  {
   "cell_type": "markdown",
   "id": "30e6850c",
   "metadata": {},
   "source": [
    "Que4. In a class, how do you capture in-place addition?\n",
    "\n",
    "Ans:\n",
    "     a+b is normal addition. Whereas a+b is inplace addition operation. In this-place addition a itself will store the value of      addition. In a class__iadd__method is used for this in-place operator.\n",
    "     "
   ]
  },
  {
   "cell_type": "code",
   "execution_count": 5,
   "id": "3653a0bd",
   "metadata": {},
   "outputs": [
    {
     "name": "stdout",
     "output_type": "stream",
     "text": [
      "1300\n"
     ]
    }
   ],
   "source": [
    "class Book:\n",
    "    def __init__(self,pages):\n",
    "        self.pages = pages\n",
    "    def __iadd__(self,other):\n",
    "        self.pages += other.pages\n",
    "        return self.pages\n",
    "    \n",
    "b1 = Book(600)\n",
    "b2 = Book(700)\n",
    "b1+=b2\n",
    "print(b1)\n"
   ]
  },
  {
   "cell_type": "code",
   "execution_count": null,
   "id": "cc367a2d",
   "metadata": {},
   "outputs": [],
   "source": []
  },
  {
   "cell_type": "markdown",
   "id": "05ae3e55",
   "metadata": {},
   "source": [
    "Que5. When is it appropriate to use operator overloading?\n",
    "\n",
    "Ans:\n",
    "     operator overloading is used when we want to use an opertor other than its normal operator to have different meaning            according to the context required in user defined function.\n",
    "     "
   ]
  },
  {
   "cell_type": "code",
   "execution_count": 6,
   "id": "2f7aaec6",
   "metadata": {},
   "outputs": [
    {
     "name": "stdout",
     "output_type": "stream",
     "text": [
      "Total Number of Pages -> 1600\n"
     ]
    }
   ],
   "source": [
    "class Book:\n",
    "    def __init__(self,pages):\n",
    "        self.pages = pages\n",
    "    def __add__(self,other):\n",
    "        return self.pages+other.pages\n",
    "b1 = Book(700)\n",
    "b2 = Book(900)\n",
    "print(f'Total Number of Pages -> {b1+b2}')\n"
   ]
  },
  {
   "cell_type": "code",
   "execution_count": null,
   "id": "5b513d6e",
   "metadata": {},
   "outputs": [],
   "source": []
  }
 ],
 "metadata": {
  "kernelspec": {
   "display_name": "Python 3 (ipykernel)",
   "language": "python",
   "name": "python3"
  },
  "language_info": {
   "codemirror_mode": {
    "name": "ipython",
    "version": 3
   },
   "file_extension": ".py",
   "mimetype": "text/x-python",
   "name": "python",
   "nbconvert_exporter": "python",
   "pygments_lexer": "ipython3",
   "version": "3.9.13"
  }
 },
 "nbformat": 4,
 "nbformat_minor": 5
}
