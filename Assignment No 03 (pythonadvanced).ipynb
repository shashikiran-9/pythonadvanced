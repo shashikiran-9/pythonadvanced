{
 "cells": [
  {
   "cell_type": "markdown",
   "id": "793452d9",
   "metadata": {},
   "source": [
    "                                Assignment No 03 (pythonadanced)"
   ]
  },
  {
   "cell_type": "code",
   "execution_count": null,
   "id": "26a233e4",
   "metadata": {},
   "outputs": [],
   "source": []
  },
  {
   "cell_type": "markdown",
   "id": "6622306c",
   "metadata": {},
   "source": [
    "Que1. What is the concept of an abstract superclass?\n",
    "\n",
    "Ans:\n",
    "     An sbstract class/superclass can be considered as a blueprint for other classes. It allows US to create a set of methods        that must becreated witin any child classes built from the abstract class. A class which contains one or more abstract          methods is called an abstract class Whereas an abstract method is a method that has a declaration but does not have an          implementation.\n",
    "     "
   ]
  },
  {
   "cell_type": "code",
   "execution_count": 1,
   "id": "3d2862cb",
   "metadata": {},
   "outputs": [],
   "source": [
    "from abc import ABC, abstractmethod\n",
    "class Polygon(ABC): # Abstract Class\n",
    "    @abstractmethod\n",
    "    def noofsides(self): #Abstract Method\n",
    "        pass\n",
    "class Triangle(Polygon):\n",
    "    def noofsides(self): # Overriding abstract method in child class Triangle\n",
    "        print(\"I have 3 sides\")\n",
    "class Pentagon(Polygon):\n",
    "    def noofsides(self): # Overriding abstract method in child class pentagon\n",
    "        print(\"I have 5 sides\")\n",
    "        \n",
    "    "
   ]
  },
  {
   "cell_type": "code",
   "execution_count": null,
   "id": "d56d36f9",
   "metadata": {},
   "outputs": [],
   "source": []
  },
  {
   "cell_type": "markdown",
   "id": "ddbe6375",
   "metadata": {},
   "source": [
    "Que2. What happens when a class statement&#39;s top level contains a basic assignment statement?\n",
    "\n",
    "Ans:\n",
    "     When a Class statement's top level contains a basic assignment statement, it is usually treated as a class attribute or        class level variable Where as assignment statement inside methods are treated as instance attributes or local attributes.\n",
    "     \n",
    "     When an instance of a class is created, a single copy of class attributes is maintained and shared to all instance of          class Where as each instance object maintains its own copy of instance variables.\n",
    "     "
   ]
  },
  {
   "cell_type": "code",
   "execution_count": 2,
   "id": "12bce6bc",
   "metadata": {},
   "outputs": [],
   "source": [
    "class Human:\n",
    "    species = 'Homesapiens' # class attributes \n",
    "    def __init__(self,name,gender):\n",
    "        self.name = name # instance attributes\n",
    "        self.gender = gender\n",
    "        "
   ]
  },
  {
   "cell_type": "code",
   "execution_count": null,
   "id": "3e11e0bd",
   "metadata": {},
   "outputs": [],
   "source": []
  },
  {
   "cell_type": "markdown",
   "id": "e47cd16a",
   "metadata": {},
   "source": [
    "Que3. Why does a class need to manually call a superclass's __init__ method?\n",
    "\n",
    "Ans:\n",
    "     If a child class has init method, then it will not inherit the init method of the parent class. In other words the init        method of the child class overrides the init method of the parent class. So ,we have to manually call a parent                  superclass's init using super() method.\n",
    "     "
   ]
  },
  {
   "cell_type": "code",
   "execution_count": 3,
   "id": "fff76fce",
   "metadata": {},
   "outputs": [
    {
     "name": "stdout",
     "output_type": "stream",
     "text": [
      "{'name': 'Rajeshree', 'age': 26, 'salary': 20000}\n"
     ]
    }
   ],
   "source": [
    "class Human:\n",
    "    def __init__(self,name,age):\n",
    "        self.name = name \n",
    "        self.age = age\n",
    "class Employee(Human):\n",
    "    def __init__(self,name,age,salary):\n",
    "        super().__init__(name,age)\n",
    "        self.salary = salary\n",
    "emp_1 = Employee('Rajeshree',26,20000)\n",
    "print(emp_1.__dict__)\n"
   ]
  },
  {
   "cell_type": "code",
   "execution_count": null,
   "id": "56191889",
   "metadata": {},
   "outputs": [],
   "source": []
  },
  {
   "cell_type": "markdown",
   "id": "fd1c74c3",
   "metadata": {},
   "source": [
    "Que4. How can you augment, instead of completely replacing, an inherited method?\n",
    "\n",
    "Ans:\n",
    "     super() method can be used to augment, instead of completely replacing, an inherited method.\n",
    "     "
   ]
  },
  {
   "cell_type": "code",
   "execution_count": 4,
   "id": "ce95c409",
   "metadata": {},
   "outputs": [
    {
     "name": "stdout",
     "output_type": "stream",
     "text": [
      "{'name': 'Rajeshree', 'gender': 'Female', 'salary': 10000}\n"
     ]
    }
   ],
   "source": [
    "class Human:\n",
    "    def __init__(self,name,gender):\n",
    "        self.name = name\n",
    "        self.gender = gender\n",
    "class Employee(Human):\n",
    "    def __init__(self,name,gender,salary):\n",
    "        super().__init__(name,gender)\n",
    "        self.salary = salary\n",
    "emp_1 = Employee('Rajeshree','Female',10000)\n",
    "print(emp_1.__dict__)\n",
    "    "
   ]
  },
  {
   "cell_type": "code",
   "execution_count": null,
   "id": "e908620f",
   "metadata": {},
   "outputs": [],
   "source": []
  },
  {
   "cell_type": "markdown",
   "id": "6498ad11",
   "metadata": {},
   "source": [
    "Que5. How is the local scope of a class different from that of a function?\n",
    "\n",
    "Ans:\n",
    "     A Variable which is defined inside a function is local to that function. It is accesible from the point which it is            defined until the end of the function, and exists for as long as the function is existing.\n",
    "     \n",
    "     Similary a variable inside of a class also has a local variable scope. Variable which are defined in the class body (but        outside all methods) are called as class level variables or class ttributes. They can be referenced by their bare names        within the same scope, but they can also be accessed from outside this scope if we use the attribute access operator(.)        on a class or an instance of the class.\n",
    "     \n",
    "     "
   ]
  },
  {
   "cell_type": "code",
   "execution_count": 5,
   "id": "43673dc4",
   "metadata": {},
   "outputs": [
    {
     "name": "stdout",
     "output_type": "stream",
     "text": [
      "you're name is Rajeshree Chamat\n",
      "Name variable is not available outside hello function scope\n",
      "HomeSapiens\n",
      "HomeSapiens\n"
     ]
    }
   ],
   "source": [
    "def hello(name):\n",
    "    name = name\n",
    "    print(f'you\\'re name is {name}')\n",
    "hello('Rajeshree Chamat')\n",
    "try:\n",
    "    name\n",
    "except NameError:\n",
    "    print('Name variable is not available outside hello function scope')\n",
    "    \n",
    "class Person:\n",
    "    species = \"HomeSapiens\"\n",
    "    def __init__(self):\n",
    "        pass\n",
    "print(Person.species) # Accessing species using class name\n",
    "Male = Person()\n",
    "print(Male.species) # Accessing species using instance of class\n",
    "\n"
   ]
  },
  {
   "cell_type": "code",
   "execution_count": null,
   "id": "44b8f350",
   "metadata": {},
   "outputs": [],
   "source": []
  }
 ],
 "metadata": {
  "kernelspec": {
   "display_name": "Python 3 (ipykernel)",
   "language": "python",
   "name": "python3"
  },
  "language_info": {
   "codemirror_mode": {
    "name": "ipython",
    "version": 3
   },
   "file_extension": ".py",
   "mimetype": "text/x-python",
   "name": "python",
   "nbconvert_exporter": "python",
   "pygments_lexer": "ipython3",
   "version": "3.9.13"
  }
 },
 "nbformat": 4,
 "nbformat_minor": 5
}
