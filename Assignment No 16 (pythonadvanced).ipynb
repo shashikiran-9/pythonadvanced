{
 "cells": [
  {
   "cell_type": "markdown",
   "id": "89d27f93",
   "metadata": {},
   "source": [
    "                                    Assignment No 16 (pythonadvanced)\n",
    "                                    "
   ]
  },
  {
   "cell_type": "code",
   "execution_count": null,
   "id": "d570c281",
   "metadata": {},
   "outputs": [],
   "source": []
  },
  {
   "cell_type": "markdown",
   "id": "d8ac8858",
   "metadata": {},
   "source": [
    "Que1. What is the benefit of regular expressions?\n",
    "\n",
    "Ans:\n",
    "     Regular Expressions, also knows as regex or regexp, are match strings of text such as particular characters, words or          patterns of characters. It means that we can match and extract any string pattern from the text with the help of regular        expressions. it helps the programmers to Write less and cleaner code. it also avoids multiply use of if/else statements.        Regular expressions are a powerful feature of any language and solve a particular class of problems extraordinarily well.      They cancbe used to validate user input, extract relevant data from a string, or even modify a string based on its              contents.\n",
    "     \n",
    "     Python's regular expression library is called \"re\" and is based on Perl's regular expression engine,which is pretty much        an industry standard now.\n",
    "     "
   ]
  },
  {
   "cell_type": "code",
   "execution_count": null,
   "id": "341e1f24",
   "metadata": {},
   "outputs": [],
   "source": []
  },
  {
   "cell_type": "markdown",
   "id": "72b83991",
   "metadata": {},
   "source": [
    "Que2. Describe the difference between the effects of \"(ab)c+\" and \"a(bc)+\"  Which of these, if any, is the\n",
    "      unqualified pattern \"abc+\"?\n",
    "\n",
    "Ans: \n",
    "     Both (ab)c+ and a(ab)+ are valid patterns. The difference between both these patterns is that in (ab)c+ ab is a group          whereas in a(bc)+ bc is a group. Capturing groups are a way to treat multiple characters as a single unit. They are            created by placing the characters to be grouped inside a set of parenthese.\n",
    "     "
   ]
  },
  {
   "cell_type": "code",
   "execution_count": null,
   "id": "8915f2f7",
   "metadata": {},
   "outputs": [],
   "source": []
  },
  {
   "cell_type": "markdown",
   "id": "ce2a0f76",
   "metadata": {},
   "source": [
    "Que3. How much do you need to use the following sentence while using regular expressions?\n",
    "\n",
    "\n",
    "import re\n",
    "\n",
    "Ans:\n",
    "     import re statement always has to be imported before using regular expressions. In a program, we need to import this once      so that we can use Regular Expressions subsequently.\n",
    "     "
   ]
  },
  {
   "cell_type": "code",
   "execution_count": null,
   "id": "8b57f24c",
   "metadata": {},
   "outputs": [],
   "source": []
  },
  {
   "cell_type": "markdown",
   "id": "bc76d9d5",
   "metadata": {},
   "source": [
    "Que4. Which characters have special significance in square brackets when expressing a range, and under what circumstances?\n",
    "\n",
    "Ans:\n",
    "     The characters .,*,?,^,or,(), have a special signiface when used with square brackets. They need not be be explicity            escaped by \\ as in case of pattern texts in a raw string. Range in Regular Expressions Ranges of characters can be              indicated by giving two characters and separating them by a '-', for example [a-z] will match any lowercase ASCII letter,      [0-5][0-9] will match all the two-digits numbers from 00 to 59.\n",
    "     "
   ]
  },
  {
   "cell_type": "code",
   "execution_count": null,
   "id": "18575584",
   "metadata": {},
   "outputs": [],
   "source": []
  },
  {
   "cell_type": "markdown",
   "id": "b28ea873",
   "metadata": {},
   "source": [
    "Que5. How does compiling a regular-expression object benefit you?\n",
    "\n",
    "Ans:\n",
    "     We can Combine a regular expression pattern into pattern Objects which can be used for pattern matching. It also helps to      search a patterns again without rewriting it.\n",
    "     "
   ]
  },
  {
   "cell_type": "code",
   "execution_count": null,
   "id": "8697c53a",
   "metadata": {},
   "outputs": [],
   "source": []
  },
  {
   "cell_type": "markdown",
   "id": "62a4230b",
   "metadata": {},
   "source": [
    "Que6. What are some examples of how to use the match object returned by re.match and re.search?\n",
    "\n",
    "Ans:\n",
    "     The re.search() and re.match() both are functions of re module in python. These functions are very efficient and fast for      searching in strings. The function searches for some substring in a string and returns a match object if found, else it        returns none.\n",
    "     \n",
    "     These is a difference between the use of both functions. Both return the first match of a substring found in the string,        but re.match() searches only from the beginning of the string and return match object if found. But if a match of              substring is found somewhere in the middle of the string, it returns one.\n",
    "     \n",
    "     Where as re.search() searches for the whole string even if the string contains multi-lines and tries to find a match of        the substring in all the lines of string.\n",
    "     "
   ]
  },
  {
   "cell_type": "code",
   "execution_count": 1,
   "id": "56a89644",
   "metadata": {},
   "outputs": [
    {
     "name": "stdout",
     "output_type": "stream",
     "text": [
      "<re.Match object; span=(61, 67), match='string'>\n",
      "None\n",
      "<re.Match object; span=(0, 6), match='string'>\n",
      "<re.Match object; span=(0, 6), match='string'>\n"
     ]
    }
   ],
   "source": [
    "import re\n",
    "Substring ='string' \n",
    "String1 ='We are learning regex with iNeuron. Regex is very useful for string matching. It is fast too.' \n",
    "String2 ='string We are learning regex with iNeuron. Regex is very useful for string matching. It is fast too.'\n",
    "print(re.search(Substring, String1, re.IGNORECASE))\n",
    "print(re.match(Substring, String1, re.IGNORECASE))\n",
    "print(re.search(Substring, String2, re.IGNORECASE))\n",
    "print(re.match(Substring, String2, re.IGNORECASE))\n"
   ]
  },
  {
   "cell_type": "code",
   "execution_count": null,
   "id": "976870c6",
   "metadata": {},
   "outputs": [],
   "source": []
  },
  {
   "cell_type": "markdown",
   "id": "605851b7",
   "metadata": {},
   "source": [
    "Que7. What is the difference between using a vertical bar (|) as an alteration and using square brackets as a character set?\n",
    "\n",
    "Ans:\n",
    "     When | us used than patterns searches for or option. i.e <pattern_1>|<pattern_2> means it searches as                          <pattern_1>or<<pattern_2> in the searched string. The first occurance of matched string will be returned as the Match          Object. Using Character set in square Brackets for all the character set in the square bracket and if match is found, it        returns it.\n",
    "     "
   ]
  },
  {
   "cell_type": "code",
   "execution_count": 2,
   "id": "a42835e1",
   "metadata": {},
   "outputs": [],
   "source": [
    "# For example\n",
    "#[p - t] = [ pqrst ]\n",
    "# For example, (x/y/z)ab match by any string-like, x, y, z, a, b."
   ]
  },
  {
   "cell_type": "code",
   "execution_count": null,
   "id": "028600ae",
   "metadata": {},
   "outputs": [],
   "source": []
  },
  {
   "cell_type": "markdown",
   "id": "36c79f5d",
   "metadata": {},
   "source": [
    "Que8. In regular-expression search patterns, why is it necessary to use the raw-string indicator (r)? In  replacement strings?\n",
    "\n",
    "Ans:\n",
    "     Raw Strings are used in the regular-expression search patterns, so that backslash do not have to be escaped. When one          wants to match a literal backslash, it must be escaped in the regular expression. With raw string notation, this means          r''''. Without raw string notation, one must use 4 times back slashes.\n",
    "     "
   ]
  },
  {
   "cell_type": "code",
   "execution_count": null,
   "id": "7af1a457",
   "metadata": {},
   "outputs": [],
   "source": []
  }
 ],
 "metadata": {
  "kernelspec": {
   "display_name": "Python 3 (ipykernel)",
   "language": "python",
   "name": "python3"
  },
  "language_info": {
   "codemirror_mode": {
    "name": "ipython",
    "version": 3
   },
   "file_extension": ".py",
   "mimetype": "text/x-python",
   "name": "python",
   "nbconvert_exporter": "python",
   "pygments_lexer": "ipython3",
   "version": "3.9.13"
  }
 },
 "nbformat": 4,
 "nbformat_minor": 5
}
