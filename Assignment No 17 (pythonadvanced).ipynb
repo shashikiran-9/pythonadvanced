{
 "cells": [
  {
   "cell_type": "markdown",
   "id": "2957b170",
   "metadata": {},
   "source": [
    "                                   Assignment No 17 (pythonadvanced)\n",
    "                                   "
   ]
  },
  {
   "cell_type": "code",
   "execution_count": null,
   "id": "fa576f35",
   "metadata": {},
   "outputs": [],
   "source": []
  },
  {
   "cell_type": "markdown",
   "id": "c0fd40b9",
   "metadata": {},
   "source": [
    "Que1. Explain the difference between greedy and non-greedy syntax with visual terms in as few words\n",
    "      as possible. What is the bare minimum effort required to transform a greedy pattern into a non-greedy one? \n",
    "      What characters or characters can you introduce or change?\n",
    "\n",
    "Ans:\n",
    "     The Main difference between Greedy and Non Greedy Match Syntax is that the Greedy Match will try to match as many              repetitions of the quantified pattern as possible Whereas the Non Greedy Match as few repetitions of the quantified            pattern as possible so that it stil can match the pattern in given string.\n",
    "     "
   ]
  },
  {
   "cell_type": "code",
   "execution_count": 1,
   "id": "3166a079",
   "metadata": {},
   "outputs": [
    {
     "name": "stdout",
     "output_type": "stream",
     "text": [
      "['aaaaaa', '']\n",
      "['', 'a', '', 'a', '', 'a', '', 'a', '', 'a', '']\n"
     ]
    }
   ],
   "source": [
    "import re\n",
    "print(re.findall(\"a*\", \"aaaaaa\")) # Greedy Match Syntax\n",
    "print(re.findall(\"a*?\", \"aaaaa\")) # Non Greddy Syntax\n"
   ]
  },
  {
   "cell_type": "code",
   "execution_count": null,
   "id": "2342af9a",
   "metadata": {},
   "outputs": [],
   "source": []
  },
  {
   "cell_type": "markdown",
   "id": "101cdcba",
   "metadata": {},
   "source": [
    "Que2. When exactly does greedy versus non-greedy make a difference?  What if you're looking for a non-greedy match but the only       one available is greedy?\n",
    "\n",
    "Ans:\n",
    "     The Greedy Match will try to match as many repetitions of the quantified pattern as possible. The Non Greedy Match will        try to match as few repetitions of the quantified pattern as possible. If only Non Greedy Match is available, we can use        other filtering or pattern matching methods of regex and further identify the required pattern.\n",
    "     "
   ]
  },
  {
   "cell_type": "code",
   "execution_count": null,
   "id": "6c7eefc7",
   "metadata": {},
   "outputs": [],
   "source": []
  },
  {
   "cell_type": "markdown",
   "id": "40931cf7",
   "metadata": {},
   "source": [
    "Que3. In a simple match of a string, which looks only for one match and does not do any replacement, is the use of a nontagged       group likely to make any practical difference?\n",
    "\n",
    "Ans:\n",
    "     In this Case, the Non-Tagged Group will not make any difference. This is shown below:\n",
    "     "
   ]
  },
  {
   "cell_type": "code",
   "execution_count": 2,
   "id": "a6635c22",
   "metadata": {},
   "outputs": [
    {
     "name": "stdout",
     "output_type": "stream",
     "text": [
      "Phone number found -> 123\n",
      "Phone number found -> 123\n"
     ]
    }
   ],
   "source": [
    "import re\n",
    "phoneNumRegex = re.compile(r'\\d\\d\\d')\n",
    "num = phoneNumRegex.search('My number is 123-456-7891.')\n",
    "print(f'Phone number found -> {num.group()}') # Non Tagged group\n",
    "print(f'Phone number found -> {num.group()}') # Tagged Group\n"
   ]
  },
  {
   "cell_type": "code",
   "execution_count": null,
   "id": "bea792e9",
   "metadata": {},
   "outputs": [],
   "source": []
  },
  {
   "cell_type": "markdown",
   "id": "bca6d635",
   "metadata": {},
   "source": [
    "Que4. Describe a scenario in which using a nontagged category would have a significant impact on the program's outcomes.\n",
    "\n",
    "Ans:\n",
    "     Here in the below Code Snippet . decimal is not tagged or captured. Hence, it will be useful in scenarios where the            separator of value in string is of no use and we need to capture only the values.\n",
    "     \n",
    "    "
   ]
  },
  {
   "cell_type": "code",
   "execution_count": 3,
   "id": "399b0993",
   "metadata": {},
   "outputs": [
    {
     "data": {
      "text/plain": [
       "('123', '456')"
      ]
     },
     "execution_count": 3,
     "metadata": {},
     "output_type": "execute_result"
    }
   ],
   "source": [
    "import re \n",
    "text='123.456'\n",
    "pattern=r'(\\d+)(?:.)(\\d+)'\n",
    "regobj=re.compile(pattern)\n",
    "matobj=regobj.search(text)\n",
    "matobj.groups()\n"
   ]
  },
  {
   "cell_type": "code",
   "execution_count": null,
   "id": "77866256",
   "metadata": {},
   "outputs": [],
   "source": []
  },
  {
   "cell_type": "markdown",
   "id": "f21def7e",
   "metadata": {},
   "source": [
    "Que5. Unlike a normal regex pattern, a look-ahead condition does not consume the characters it examines. Describe a situation         in which this could make a difference in the results of your programme.\n",
    "\n",
    "Ans:\n",
    "     While counting the number of multiple lines or multiple sentences in a string, the positive look ahead makes a difference,      without which we will not be able to get the correct count of lines or sentences in string.\n",
    "     "
   ]
  },
  {
   "cell_type": "code",
   "execution_count": null,
   "id": "e6f3d966",
   "metadata": {},
   "outputs": [],
   "source": []
  },
  {
   "cell_type": "markdown",
   "id": "a62a484b",
   "metadata": {},
   "source": [
    "Que6. In standard expressions, what is the difference between positive look-ahead and negative look- ahead?\n",
    "\n",
    "Ans:\n",
    "     Positive Look-ahead allows to add a condition for what follows. Negative Lookahead is similar,but it looks behind. That        is, it allows to match a pattern only if there's something before it.\n",
    "     \n",
    "     Syntax Positive Look-Ahead:X(?=Y) syntax Negative Look-Ahead:X(?!Y)\n",
    "     "
   ]
  },
  {
   "cell_type": "code",
   "execution_count": 4,
   "id": "1b503167",
   "metadata": {},
   "outputs": [
    {
     "name": "stdout",
     "output_type": "stream",
     "text": [
      "4\n"
     ]
    }
   ],
   "source": [
    "#Positive Look Ahead\n",
    "import re \n",
    "\n",
    "s = '1 Python is about 4 feet long'\n",
    "pattern = '\\d+(?=\\s*feet)'\n",
    "\n",
    "matches = re.finditer(pattern,s)\n",
    "for match in matches:\n",
    "    print(match.group())\n",
    "    "
   ]
  },
  {
   "cell_type": "code",
   "execution_count": 6,
   "id": "647e1ccb",
   "metadata": {},
   "outputs": [
    {
     "name": "stdout",
     "output_type": "stream",
     "text": [
      "1\n"
     ]
    }
   ],
   "source": [
    "#Negative Look Ahead\n",
    "import re \n",
    "\n",
    "s = '1 Python is about 4 feet long'\n",
    "pattern = '\\d+(?!\\s*feet)'\n",
    "\n",
    "matches = re.finditer(pattern,s)\n",
    "for match in matches:\n",
    "    print(match.group())\n",
    "    "
   ]
  },
  {
   "cell_type": "code",
   "execution_count": null,
   "id": "50a6e99a",
   "metadata": {},
   "outputs": [],
   "source": []
  },
  {
   "cell_type": "markdown",
   "id": "2d5a10c1",
   "metadata": {},
   "source": [
    "Que7. What is the benefit of referring to groups by name rather than by number in a standard expression?\n",
    "\n",
    "Ans:\n",
    "     The advantage to named groups is that it adds readability and understandability to the code, so that you can easily see        what part of a regular expression match is being referenced.\n",
    "     "
   ]
  },
  {
   "cell_type": "code",
   "execution_count": null,
   "id": "e9060fec",
   "metadata": {},
   "outputs": [],
   "source": []
  },
  {
   "cell_type": "markdown",
   "id": "dafdd6c4",
   "metadata": {},
   "source": [
    "Que8. Can you identify repeated items within a target string using named groups, as in \"The cow jumped over the moon\"?\n"
   ]
  },
  {
   "cell_type": "code",
   "execution_count": 7,
   "id": "6f3d00d7",
   "metadata": {},
   "outputs": [
    {
     "data": {
      "text/plain": [
       "['The', 'the']"
      ]
     },
     "execution_count": 7,
     "metadata": {},
     "output_type": "execute_result"
    }
   ],
   "source": [
    "import re \n",
    "text = \"The cow jumped over the moon\"\n",
    "regobj=re.compile(r'(?P<w1>The)',re.I)\n",
    "regobj.findall(text)\n"
   ]
  },
  {
   "cell_type": "code",
   "execution_count": null,
   "id": "c41a943c",
   "metadata": {},
   "outputs": [],
   "source": []
  },
  {
   "cell_type": "markdown",
   "id": "f693aa32",
   "metadata": {},
   "source": [
    "Que9. When parsing a string, what is at least one thing that the Scanner interface does for you that the re.findall feature           does not?\n",
    "\n",
    "Ans:\n",
    "     re.findall()module is used to search for all occurrences the match a given pattern. In contrast, re.search() will only          return the first occurrence that matches the specified overlapping matches of pattern in single step.\n",
    "     "
   ]
  },
  {
   "cell_type": "code",
   "execution_count": null,
   "id": "17548ec2",
   "metadata": {},
   "outputs": [],
   "source": []
  },
  {
   "cell_type": "markdown",
   "id": "d51c952c",
   "metadata": {},
   "source": [
    "Que10. Does a scanner object have to be named scanner?\n",
    "\n",
    "Ans:\n",
    "     No, It may have any name.For example instead of naming Scanner object as scanner,we can name as sc.\n",
    "     "
   ]
  },
  {
   "cell_type": "code",
   "execution_count": null,
   "id": "a8d7f7be",
   "metadata": {},
   "outputs": [],
   "source": []
  }
 ],
 "metadata": {
  "kernelspec": {
   "display_name": "Python 3 (ipykernel)",
   "language": "python",
   "name": "python3"
  },
  "language_info": {
   "codemirror_mode": {
    "name": "ipython",
    "version": 3
   },
   "file_extension": ".py",
   "mimetype": "text/x-python",
   "name": "python",
   "nbconvert_exporter": "python",
   "pygments_lexer": "ipython3",
   "version": "3.9.13"
  }
 },
 "nbformat": 4,
 "nbformat_minor": 5
}
