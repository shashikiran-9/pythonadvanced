{
 "cells": [
  {
   "cell_type": "markdown",
   "id": "0b255c20",
   "metadata": {},
   "source": [
    "                                  Assignment No 11 (pythonadvanced)"
   ]
  },
  {
   "cell_type": "code",
   "execution_count": null,
   "id": "2bb3850a",
   "metadata": {},
   "outputs": [],
   "source": []
  },
  {
   "cell_type": "markdown",
   "id": "631beea7",
   "metadata": {},
   "source": [
    "Que1. What is the concept of a metaclass?\n",
    "\n",
    "Ans:\n",
    "     Metaclass in Python is a class of a class that defines how a class behaves. A class is itself a instance of Metaclass, and      any Instance of class Python is an Instance of type metaclass. E.g.Type of int,str,float,list,tuple and many more is of        metaclass type.\n",
    "     "
   ]
  },
  {
   "cell_type": "code",
   "execution_count": null,
   "id": "5c5df47c",
   "metadata": {},
   "outputs": [],
   "source": [
    "# our metaclass\n",
    "class MultiBases(type):\n",
    "        # overriding __new__ method\n",
    "        def __new__(cls, clsname, bases, clsdict):\n",
    "                # if no of base classes is greater than 1\n",
    "                # raise error\n",
    "                if len(bases)>1:\n",
    "                        raise TypeError(\"Inherited multiple base classes!!!\")\n",
    "\n",
    "                # else execute __new__ method of super class, ie.\n",
    "                # call __init__ of type class\n",
    "                return super().__new__(cls, clsname, bases, clsdict)\n",
    "\n",
    "# metaclass can be specified by 'metaclass' keyword argument\n",
    "# now MultiBase class is used for creating classes\n",
    "# this will be propagated to all subclasses of Base\n",
    "class Base(metaclass=MultiBases):\n",
    "        pass\n",
    "\n",
    "# no error is raised\n",
    "class A(Base):\n",
    "        pass\n",
    "\n",
    "# no error is raised\n",
    "class B(Base):\n",
    "        pass\n",
    "\n",
    "# This will raise an error!\n",
    "class C(A, B):\n",
    "       pass\n"
   ]
  },
  {
   "cell_type": "code",
   "execution_count": null,
   "id": "24a85fc1",
   "metadata": {},
   "outputs": [],
   "source": []
  },
  {
   "cell_type": "markdown",
   "id": "70db2811",
   "metadata": {},
   "source": [
    "Que2. What is the best way to declare a class&#39;s metaclass?\n",
    "\n",
    "Ans:\n",
    "     A way to declare a class'metaclass is by using metaclass keyword in class definition.\n",
    "     "
   ]
  },
  {
   "cell_type": "code",
   "execution_count": 4,
   "id": "b0aecf7d",
   "metadata": {},
   "outputs": [
    {
     "name": "stdout",
     "output_type": "stream",
     "text": [
      "<class 'type'>\n",
      "<class '__main__.meta'>\n"
     ]
    }
   ],
   "source": [
    "class meta(type):\n",
    "    pass\n",
    "class class_meta(metaclass=meta):\n",
    "    pass\n",
    "print(type(meta))\n",
    "print(type(class_meta))\n"
   ]
  },
  {
   "cell_type": "code",
   "execution_count": null,
   "id": "36aa2b7f",
   "metadata": {},
   "outputs": [],
   "source": []
  },
  {
   "cell_type": "markdown",
   "id": "3d5f34c9",
   "metadata": {},
   "source": [
    "Que3. How do class decorators overlap with metaclasses for handling classes?\n",
    "\n",
    "Ans:\n",
    "     Anything you can do with a class decorator, you can of course do with a custom metaclass (just apply the functionality of      the \"decrator function\",i.e., the one that takes a class object and modifies it, in the course of the metaclass's New or        init that make the class object!).\n",
    "     "
   ]
  },
  {
   "cell_type": "code",
   "execution_count": null,
   "id": "839ba352",
   "metadata": {},
   "outputs": [],
   "source": []
  },
  {
   "cell_type": "markdown",
   "id": "a904f9f8",
   "metadata": {},
   "source": [
    "Que4. How do class decorators overlap with metaclasses for handling instances?\n",
    "\n",
    "Ans:\n",
    "     Anything you can do with a class decorator, you can of course do with a custom metaclass(just a class object and modifies      it, in the course of the metaclass's new or init that make the class object!).\n",
    "     "
   ]
  },
  {
   "cell_type": "code",
   "execution_count": null,
   "id": "9a960a62",
   "metadata": {},
   "outputs": [],
   "source": []
  }
 ],
 "metadata": {
  "kernelspec": {
   "display_name": "Python 3 (ipykernel)",
   "language": "python",
   "name": "python3"
  },
  "language_info": {
   "codemirror_mode": {
    "name": "ipython",
    "version": 3
   },
   "file_extension": ".py",
   "mimetype": "text/x-python",
   "name": "python",
   "nbconvert_exporter": "python",
   "pygments_lexer": "ipython3",
   "version": "3.9.13"
  }
 },
 "nbformat": 4,
 "nbformat_minor": 5
}
